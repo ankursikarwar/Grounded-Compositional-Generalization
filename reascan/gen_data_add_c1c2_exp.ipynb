{
 "cells": [
  {
   "cell_type": "code",
   "execution_count": 1,
   "id": "ccbe68b7-4ebb-4717-b217-f3d5a132975a",
   "metadata": {},
   "outputs": [],
   "source": [
    "import json\n",
    "from tqdm import tqdm\n",
    "import os\n",
    "\n",
    "import random\n",
    "random.seed(1249)\n",
    "\n",
    "if not os.path.exists('./data/custom/add_c1c2_exp/'):\n",
    "    os.makedirs('./data/custom/add_c1c2_exp/')\n",
    "\n",
    "#Set ReaSCAN data path\n",
    "data_path = './data/ReaSCAN-v1.1/'\n",
    "\n",
    "data = [json.loads(line) for line in open(data_path + 'ReaSCAN-compositional/train.json', 'r')]\n",
    "random.shuffle(data)"
   ]
  },
  {
   "cell_type": "code",
   "execution_count": 2,
   "id": "703f45b1-7b54-46f8-b2cd-e4efa97572c2",
   "metadata": {},
   "outputs": [
    {
     "name": "stdout",
     "output_type": "stream",
     "text": [
      "Simple Command Percentage:  15.593027521575923\n",
      "One Rel Clause Command Percentage:  36.98941306820919\n",
      "Two Rel Clause Command Percentage:  47.417559410214885\n"
     ]
    }
   ],
   "source": [
    "two_relative_clause_count = 0\n",
    "one_relative_clause_count = 0 \n",
    "simple_count = 0\n",
    "\n",
    "for item in data:\n",
    "    if 'and' in item['input_command']:#two relative clause\n",
    "        two_relative_clause_count += 1\n",
    "    if ('that' in item['input_command']) and ('and' not in item['input_command']):#one relative clause\n",
    "        one_relative_clause_count += 1\n",
    "    if 'that' not in item['input_command']:#simple commands\n",
    "        simple_count += 1\n",
    "        \n",
    "print(\"Simple Command Percentage: \", (simple_count/len(data))*100)\n",
    "print(\"One Rel Clause Command Percentage: \", (one_relative_clause_count/len(data))*100)\n",
    "print(\"Two Rel Clause Command Percentage: \", (two_relative_clause_count/len(data))*100)"
   ]
  },
  {
   "cell_type": "code",
   "execution_count": 3,
   "id": "71ebc004-a04e-4d84-8af8-0694e3141010",
   "metadata": {},
   "outputs": [
    {
     "name": "stdout",
     "output_type": "stream",
     "text": [
      "Simple Command Percentage:  15.428571428571427\n",
      "One Rel Clause Command Percentage:  37.03392857142857\n",
      "Two Rel Clause Command Percentage:  47.5375\n"
     ]
    }
   ],
   "source": [
    "data_112000 = random.sample(data, 112000)\n",
    "\n",
    "two_relative_clause_count = 0\n",
    "one_relative_clause_count = 0 \n",
    "simple_count = 0\n",
    "\n",
    "for item in data_112000:\n",
    "    if 'and' in item['input_command']:\n",
    "        two_relative_clause_count += 1\n",
    "    if ('that' in item['input_command']) and ('and' not in item['input_command']):\n",
    "        one_relative_clause_count += 1\n",
    "    if 'that' not in item['input_command']:\n",
    "        simple_count += 1\n",
    "        \n",
    "print(\"Simple Command Percentage: \", (simple_count/len(data_112000))*100)\n",
    "print(\"One Rel Clause Command Percentage: \", (one_relative_clause_count/len(data_112000))*100)\n",
    "print(\"Two Rel Clause Command Percentage: \", (two_relative_clause_count/len(data_112000))*100)"
   ]
  },
  {
   "cell_type": "code",
   "execution_count": 4,
   "id": "3b7e01a4-f5be-41d5-a4e2-e168f21e4833",
   "metadata": {},
   "outputs": [
    {
     "name": "stdout",
     "output_type": "stream",
     "text": [
      "Simple Command Percentage:  15.422641509433962\n",
      "One Rel Clause Command Percentage:  37.05\n",
      "Two Rel Clause Command Percentage:  47.52735849056604\n"
     ]
    }
   ],
   "source": [
    "data_106000 = data_112000[:106000]\n",
    "\n",
    "two_relative_clause_count = 0\n",
    "one_relative_clause_count = 0 \n",
    "simple_count = 0\n",
    "\n",
    "for item in data_106000:\n",
    "    if 'and' in item['input_command']:\n",
    "        two_relative_clause_count += 1\n",
    "    if ('that' in item['input_command']) and ('and' not in item['input_command']):\n",
    "        one_relative_clause_count += 1\n",
    "    if 'that' not in item['input_command']:\n",
    "        simple_count += 1\n",
    "        \n",
    "print(\"Simple Command Percentage: \", (simple_count/len(data_106000))*100)\n",
    "print(\"One Rel Clause Command Percentage: \", (one_relative_clause_count/len(data_106000))*100)\n",
    "print(\"Two Rel Clause Command Percentage: \", (two_relative_clause_count/len(data_106000))*100)"
   ]
  },
  {
   "cell_type": "code",
   "execution_count": 5,
   "id": "df3382e2-5aa4-4a88-abfc-f1522e6081ec",
   "metadata": {},
   "outputs": [
    {
     "name": "stdout",
     "output_type": "stream",
     "text": [
      "Simple Command Percentage:  15.351\n",
      "One Rel Clause Command Percentage:  37.088\n",
      "Two Rel Clause Command Percentage:  47.561\n"
     ]
    }
   ],
   "source": [
    "data_100000 = data_106000[:100000]\n",
    "\n",
    "two_relative_clause_count = 0\n",
    "one_relative_clause_count = 0 \n",
    "simple_count = 0\n",
    "\n",
    "for item in data_100000:\n",
    "    if 'and' in item['input_command']:\n",
    "        two_relative_clause_count += 1\n",
    "    if ('that' in item['input_command']) and ('and' not in item['input_command']):\n",
    "        one_relative_clause_count += 1\n",
    "    if 'that' not in item['input_command']:\n",
    "        simple_count += 1\n",
    "        \n",
    "print(\"Simple Command Percentage: \", (simple_count/len(data_100000))*100)\n",
    "print(\"One Rel Clause Command Percentage: \", (one_relative_clause_count/len(data_100000))*100)\n",
    "print(\"Two Rel Clause Command Percentage: \", (two_relative_clause_count/len(data_100000))*100)"
   ]
  },
  {
   "cell_type": "code",
   "execution_count": 6,
   "id": "8cc0275e-177c-49a8-af2f-66646424dd8b",
   "metadata": {},
   "outputs": [],
   "source": [
    "data_c1 = [json.loads(line) for line in open(data_path+'ReaSCAN-compositional-c1/test.json', 'r')]\n",
    "data_c2 = [json.loads(line) for line in open(data_path+'ReaSCAN-compositional-c2/test.json', 'r')]\n",
    "\n",
    "data_c1_8000 = random.sample(data_c1, 8000)\n",
    "data_c2_8000 = random.sample(data_c2, 8000)\n",
    "\n",
    "random.seed(1)\n",
    "random.shuffle(data_c1_8000)\n",
    "random.shuffle(data_c2_8000)\n",
    "\n",
    "c1_train_v1 = data_c1_8000[:6000]\n",
    "c1_test_v1 = data_c1_8000[6000:]\n",
    "c2_train_v1 = data_c2_8000[:6000]\n",
    "c2_test_v1 = data_c2_8000[6000:]\n",
    "\n",
    "random.seed(2)\n",
    "random.shuffle(data_c1_8000)\n",
    "random.shuffle(data_c2_8000)\n",
    "\n",
    "c1_train_v2 = data_c1_8000[:6000]\n",
    "c1_test_v2 = data_c1_8000[6000:]\n",
    "c2_train_v2 = data_c2_8000[:6000]\n",
    "c2_test_v2 = data_c2_8000[6000:]\n",
    "\n",
    "random.seed(3)\n",
    "random.shuffle(data_c1_8000)\n",
    "random.shuffle(data_c2_8000)\n",
    "\n",
    "c1_train_v3 = data_c1_8000[:6000]\n",
    "c1_test_v3 = data_c1_8000[6000:]\n",
    "c2_train_v3 = data_c2_8000[:6000]\n",
    "c2_test_v3 = data_c2_8000[6000:]\n",
    "\n",
    "random.seed(4)\n",
    "random.shuffle(data_c1_8000)\n",
    "random.shuffle(data_c2_8000)\n",
    "\n",
    "c1_train_v4 = data_c1_8000[:6000]\n",
    "c1_test_v4 = data_c1_8000[6000:]\n",
    "c2_train_v4 = data_c2_8000[:6000]\n",
    "c2_test_v4 = data_c2_8000[6000:]"
   ]
  },
  {
   "cell_type": "markdown",
   "id": "63b2053b-2d76-49b3-8c5b-4f153de0bcd4",
   "metadata": {},
   "source": [
    "## Version 1"
   ]
  },
  {
   "cell_type": "code",
   "execution_count": 7,
   "id": "4df8111e-e7c8-4d17-85a4-701bd7dbe84b",
   "metadata": {},
   "outputs": [],
   "source": [
    "random.seed(1249)"
   ]
  },
  {
   "cell_type": "code",
   "execution_count": 8,
   "id": "020d75a8-636a-44c9-a0e8-403bdd471b3a",
   "metadata": {},
   "outputs": [],
   "source": [
    "train_random_c1_c2_v1 = data_100000 + c1_train_v1 + c2_train_v1\n",
    "train_random_c1_v1 = data_106000 + c1_train_v1\n",
    "train_random_c2_v1 = data_106000 + c2_train_v1\n",
    "\n",
    "random.shuffle(train_random_c1_c2_v1)\n",
    "random.shuffle(train_random_c1_v1)\n",
    "random.shuffle(train_random_c2_v1)\n",
    "random.shuffle(c1_test_v1)\n",
    "random.shuffle(c2_test_v1)\n",
    "\n",
    "# print(len(train_random_c1_c2_v1))\n",
    "# print(len(train_random_c1_v1))\n",
    "# print(len(train_random_c2_v1))\n",
    "# print(len(c1_test_v1))\n",
    "# print(len(c2_test_v1))\n",
    "\n",
    "with open('./data/custom/add_c1c2_exp/train_random_c1_c2_v1.json', 'w') as f:\n",
    "    for line in train_random_c1_c2_v1:\n",
    "        f.write(json.dumps(line) + '\\n')\n",
    "        \n",
    "with open('./data/custom/add_c1c2_exp/train_random_c1_v1.json', 'w') as f:\n",
    "    for line in train_random_c1_v1:\n",
    "        f.write(json.dumps(line) + '\\n')\n",
    "        \n",
    "with open('./data/custom/add_c1c2_exp/train_random_c2_v1.json', 'w') as f:\n",
    "    for line in train_random_c2_v1:\n",
    "        f.write(json.dumps(line) + '\\n')\n",
    "        \n",
    "with open('./data/custom/add_c1c2_exp/test_c1_v1.json', 'w') as f:\n",
    "    for line in c1_test_v1:\n",
    "        f.write(json.dumps(line) + '\\n')\n",
    "        \n",
    "with open('./data/custom/add_c1c2_exp/test_c2_v1.json', 'w') as f:\n",
    "    for line in c2_test_v1:\n",
    "        f.write(json.dumps(line) + '\\n')"
   ]
  },
  {
   "cell_type": "markdown",
   "id": "315485b7-d05b-425d-89e1-c6e81c081414",
   "metadata": {},
   "source": [
    "## Version 2"
   ]
  },
  {
   "cell_type": "code",
   "execution_count": 9,
   "id": "4bb5c8c2-0682-4d16-aeae-961581388fd9",
   "metadata": {},
   "outputs": [],
   "source": [
    "train_random_c1_c2_v2 = data_100000 + c1_train_v2 + c2_train_v2\n",
    "train_random_c1_v2 = data_106000 + c1_train_v2\n",
    "train_random_c2_v2 = data_106000 + c2_train_v2\n",
    "\n",
    "random.shuffle(train_random_c1_c2_v2)\n",
    "random.shuffle(train_random_c1_v2)\n",
    "random.shuffle(train_random_c2_v2)\n",
    "random.shuffle(c1_test_v2)\n",
    "random.shuffle(c2_test_v2)\n",
    "\n",
    "# print(len(train_random_c1_c2_v2))\n",
    "# print(len(train_random_c1_v2))\n",
    "# print(len(train_random_c2_v2))\n",
    "# print(len(c1_test_v2))\n",
    "# print(len(c2_test_v2))\n",
    "\n",
    "with open('./data/custom/add_c1c2_exp/train_random_c1_c2_v2.json', 'w') as f:\n",
    "    for line in train_random_c1_c2_v2:\n",
    "        f.write(json.dumps(line) + '\\n')\n",
    "        \n",
    "with open('./data/custom/add_c1c2_exp/train_random_c1_v2.json', 'w') as f:\n",
    "    for line in train_random_c1_v2:\n",
    "        f.write(json.dumps(line) + '\\n')\n",
    "        \n",
    "with open('./data/custom/add_c1c2_exp/train_random_c2_v2.json', 'w') as f:\n",
    "    for line in train_random_c2_v2:\n",
    "        f.write(json.dumps(line) + '\\n')\n",
    "        \n",
    "with open('./data/custom/add_c1c2_exp/test_c1_v2.json', 'w') as f:\n",
    "    for line in c1_test_v2:\n",
    "        f.write(json.dumps(line) + '\\n')\n",
    "        \n",
    "with open('./data/custom/add_c1c2_exp/test_c2_v2.json', 'w') as f:\n",
    "    for line in c2_test_v2:\n",
    "        f.write(json.dumps(line) + '\\n')"
   ]
  },
  {
   "cell_type": "markdown",
   "id": "2a43d050-2497-4417-99da-67c675c7caa2",
   "metadata": {},
   "source": [
    "## Version 3"
   ]
  },
  {
   "cell_type": "code",
   "execution_count": 10,
   "id": "86c39d6b-8d99-4725-8cf1-e40e0dc1ab9d",
   "metadata": {},
   "outputs": [],
   "source": [
    "train_random_c1_c2_v3 = data_100000 + c1_train_v3 + c2_train_v3\n",
    "train_random_c1_v3 = data_106000 + c1_train_v3\n",
    "train_random_c2_v3 = data_106000 + c2_train_v3\n",
    "\n",
    "random.shuffle(train_random_c1_c2_v3)\n",
    "random.shuffle(train_random_c1_v3)\n",
    "random.shuffle(train_random_c2_v3)\n",
    "random.shuffle(c1_test_v3)\n",
    "random.shuffle(c2_test_v3)\n",
    "\n",
    "# print(len(train_random_c1_c2_v3))\n",
    "# print(len(train_random_c1_v3))\n",
    "# print(len(train_random_c2_v3))\n",
    "# print(len(c1_test_v3))\n",
    "# print(len(c2_test_v3))\n",
    "\n",
    "with open('./data/custom/add_c1c2_exp/train_random_c1_c2_v3.json', 'w') as f:\n",
    "    for line in train_random_c1_c2_v3:\n",
    "        f.write(json.dumps(line) + '\\n')\n",
    "        \n",
    "with open('./data/custom/add_c1c2_exp/train_random_c1_v3.json', 'w') as f:\n",
    "    for line in train_random_c1_v3:\n",
    "        f.write(json.dumps(line) + '\\n')\n",
    "        \n",
    "with open('./data/custom/add_c1c2_exp/train_random_c2_v3.json', 'w') as f:\n",
    "    for line in train_random_c2_v3:\n",
    "        f.write(json.dumps(line) + '\\n')\n",
    "        \n",
    "with open('./data/custom/add_c1c2_exp/test_c1_v3.json', 'w') as f:\n",
    "    for line in c1_test_v3:\n",
    "        f.write(json.dumps(line) + '\\n')\n",
    "        \n",
    "with open('./data/custom/add_c1c2_exp/test_c2_v3.json', 'w') as f:\n",
    "    for line in c2_test_v3:\n",
    "        f.write(json.dumps(line) + '\\n')"
   ]
  },
  {
   "cell_type": "markdown",
   "id": "91711e9f-8f1e-4284-b8c3-8f23e1852690",
   "metadata": {},
   "source": [
    "## Version 4"
   ]
  },
  {
   "cell_type": "code",
   "execution_count": 11,
   "id": "18fc6589-b3f7-48b4-96c0-c4958405e4c9",
   "metadata": {},
   "outputs": [],
   "source": [
    "train_random_c1_c2_v4 = data_100000 + c1_train_v4 + c2_train_v4\n",
    "train_random_c1_v4 = data_106000 + c1_train_v4\n",
    "train_random_c2_v4 = data_106000 + c2_train_v4\n",
    "\n",
    "random.shuffle(train_random_c1_c2_v4)\n",
    "random.shuffle(train_random_c1_v4)\n",
    "random.shuffle(train_random_c2_v4)\n",
    "random.shuffle(c1_test_v4)\n",
    "random.shuffle(c2_test_v4)\n",
    "\n",
    "# print(len(train_random_c1_c2_v4))\n",
    "# print(len(train_random_c1_v4))\n",
    "# print(len(train_random_c2_v4))\n",
    "# print(len(c1_test_v4))\n",
    "# print(len(c2_test_v4))\n",
    "\n",
    "with open('./data/custom/add_c1c2_exp/train_random_c1_c2_v4.json', 'w') as f:\n",
    "    for line in train_random_c1_c2_v4:\n",
    "        f.write(json.dumps(line) + '\\n')\n",
    "        \n",
    "with open('./data/custom/add_c1c2_exp/train_random_c1_v4.json', 'w') as f:\n",
    "    for line in train_random_c1_v4:\n",
    "        f.write(json.dumps(line) + '\\n')\n",
    "        \n",
    "with open('./data/custom/add_c1c2_exp/train_random_c2_v4.json', 'w') as f:\n",
    "    for line in train_random_c2_v4:\n",
    "        f.write(json.dumps(line) + '\\n')\n",
    "        \n",
    "with open('./data/custom/add_c1c2_exp/test_c1_v4.json', 'w') as f:\n",
    "    for line in c1_test_v4:\n",
    "        f.write(json.dumps(line) + '\\n')\n",
    "        \n",
    "with open('./data/custom/add_c1c2_exp/test_c2_v4.json', 'w') as f:\n",
    "    for line in c2_test_v4:\n",
    "        f.write(json.dumps(line) + '\\n')"
   ]
  },
  {
   "cell_type": "markdown",
   "id": "e92a6e50-8ec8-4110-8dbc-96b4958b1807",
   "metadata": {},
   "source": [
    "## Full Random"
   ]
  },
  {
   "cell_type": "code",
   "execution_count": 8,
   "id": "1f5cae9a-0118-4f7c-b019-3d071bcda99a",
   "metadata": {},
   "outputs": [],
   "source": [
    "with open('./data/custom/add_c1c2_exp/train_random_112000.json', 'w') as f:\n",
    "    for line in data_112000:\n",
    "        f.write(json.dumps(line) + '\\n')"
   ]
  },
  {
   "cell_type": "code",
   "execution_count": 9,
   "id": "e045474f-3d73-4fc6-a1b1-7f358b2417f0",
   "metadata": {},
   "outputs": [],
   "source": [
    "# Use for a2 experiment as well\n",
    "with open('./data/custom/a2_exp/train_random_112000.json', 'w') as f:\n",
    "    for line in data_112000:\n",
    "        f.write(json.dumps(line) + '\\n')"
   ]
  },
  {
   "cell_type": "code",
   "execution_count": null,
   "id": "2aea948a-9706-4918-b20a-f9216b7220a5",
   "metadata": {},
   "outputs": [],
   "source": []
  }
 ],
 "metadata": {
  "kernelspec": {
   "display_name": "reascan",
   "language": "python",
   "name": "reascan"
  },
  "language_info": {
   "codemirror_mode": {
    "name": "ipython",
    "version": 3
   },
   "file_extension": ".py",
   "mimetype": "text/x-python",
   "name": "python",
   "nbconvert_exporter": "python",
   "pygments_lexer": "ipython3",
   "version": "3.7.13"
  }
 },
 "nbformat": 4,
 "nbformat_minor": 5
}
