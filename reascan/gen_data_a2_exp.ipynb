{
 "cells": [
  {
   "cell_type": "code",
   "execution_count": 1,
   "id": "ccbe68b7-4ebb-4717-b217-f3d5a132975a",
   "metadata": {},
   "outputs": [],
   "source": [
    "import json\n",
    "from tqdm import tqdm\n",
    "import os\n",
    "\n",
    "import random\n",
    "random.seed(1249)\n",
    "\n",
    "if not os.path.exists('./data/custom/a2_exp/'):\n",
    "    os.makedirs('./data/custom/a2_exp/')\n",
    "\n",
    "#Set ReaSCAN data path\n",
    "data_path = './data/ReaSCAN-v1.1/'\n",
    "\n",
    "data = [json.loads(line) for line in open(data_path + 'ReaSCAN-compositional/train.json', 'r')]\n",
    "random.shuffle(data)"
   ]
  },
  {
   "cell_type": "code",
   "execution_count": 2,
   "id": "703f45b1-7b54-46f8-b2cd-e4efa97572c2",
   "metadata": {},
   "outputs": [
    {
     "name": "stdout",
     "output_type": "stream",
     "text": [
      "Simple Command Percentage:  15.593027521575923\n",
      "One Rel Clause Command Percentage:  36.98941306820919\n",
      "Two Rel Clause Command Percentage:  47.417559410214885\n"
     ]
    }
   ],
   "source": [
    "two_relative_clause_count = 0\n",
    "one_relative_clause_count = 0 \n",
    "simple_count = 0\n",
    "\n",
    "for item in data:\n",
    "    if 'and' in item['input_command']:\n",
    "        two_relative_clause_count += 1\n",
    "    if ('that' in item['input_command']) and ('and' not in item['input_command']):\n",
    "        one_relative_clause_count += 1\n",
    "    if 'that' not in item['input_command']:\n",
    "        simple_count += 1\n",
    "        \n",
    "print(\"Simple Command Percentage: \", (simple_count/len(data))*100)\n",
    "print(\"One Rel Clause Command Percentage: \", (one_relative_clause_count/len(data))*100)\n",
    "print(\"Two Rel Clause Command Percentage: \", (two_relative_clause_count/len(data))*100)"
   ]
  },
  {
   "cell_type": "markdown",
   "id": "b16fe4be-cf5b-4097-af6f-39582a6d6adf",
   "metadata": {},
   "source": [
    "### Total number of red square distractors"
   ]
  },
  {
   "cell_type": "code",
   "execution_count": 3,
   "id": "d55ac94e-f31e-4f39-8dcb-abcd7bf5030f",
   "metadata": {},
   "outputs": [
    {
     "name": "stdout",
     "output_type": "stream",
     "text": [
      "Total number of red square distractors:  390307\n"
     ]
    }
   ],
   "source": [
    "count_all_red_square = 0\n",
    "\n",
    "for sample in data:\n",
    "    for col in range(0, 6):\n",
    "        for row in range(0, 6):\n",
    "            if sample['situation'][col][row][4:] == [0, 0, 1, 0, 1, 0, 0, 0, 0, 0, 0, 0, 0, 0, 0, 0, 0, 0, 0, 0, 0]:\n",
    "                count_all_red_square += 1\n",
    "                \n",
    "print('Total number of red square distractors: ', count_all_red_square)"
   ]
  },
  {
   "cell_type": "markdown",
   "id": "2ff9df6b-d270-4395-8c91-da1f3764af56",
   "metadata": {},
   "source": [
    "### Total number of situations with red square distractors"
   ]
  },
  {
   "cell_type": "code",
   "execution_count": 4,
   "id": "920da74e-fa40-4011-84df-9d0bb7244198",
   "metadata": {},
   "outputs": [
    {
     "name": "stdout",
     "output_type": "stream",
     "text": [
      "Total number of situations with red square distractors:  262312\n",
      "Total number of situations:  539722\n",
      "Percentage of train data where situation contains red squares:  0.48601316974294173\n"
     ]
    }
   ],
   "source": [
    "count_situation_with_red_square = 0\n",
    "\n",
    "for sample in data:\n",
    "    sample_rs = False\n",
    "    for col in range(0, 6):\n",
    "        for row in range(0, 6):\n",
    "            if sample['situation'][col][row][4:] == [0, 0, 1, 0, 1, 0, 0, 0, 0, 0, 0, 0, 0, 0, 0, 0, 0, 0, 0, 0, 0]:\n",
    "                sample_rs = True\n",
    "    if sample_rs == True:\n",
    "        count_situation_with_red_square += 1\n",
    "        \n",
    "print('Total number of situations with red square distractors: ', count_situation_with_red_square)\n",
    "print('Total number of situations: ', len(data))\n",
    "print('Percentage of train data where situation contains red squares: ', count_situation_with_red_square/len(data))"
   ]
  },
  {
   "cell_type": "markdown",
   "id": "10db0b67-009b-4832-9acd-c83d6d02208b",
   "metadata": {},
   "source": [
    "### Split data based on red square distractor"
   ]
  },
  {
   "cell_type": "code",
   "execution_count": 5,
   "id": "3853d2b0-fe24-4ada-b933-b75e75f6daa6",
   "metadata": {},
   "outputs": [],
   "source": [
    "rs_data = []\n",
    "non_rs_data = []\n",
    "\n",
    "for sample in data:\n",
    "    sample_rs = False\n",
    "    for col in range(0, 6):\n",
    "        for row in range(0, 6):\n",
    "            if sample['situation'][col][row][4:] == [0, 0, 1, 0, 1, 0, 0, 0, 0, 0, 0, 0, 0, 0, 0, 0, 0, 0, 0, 0, 0]:\n",
    "                sample_rs = True\n",
    "    if sample_rs == True:\n",
    "        rs_data.append(sample)\n",
    "    else:\n",
    "        non_rs_data.append(sample)"
   ]
  },
  {
   "cell_type": "code",
   "execution_count": 6,
   "id": "85541508-6419-4b41-b9cd-6a174ee3c7f7",
   "metadata": {},
   "outputs": [
    {
     "name": "stdout",
     "output_type": "stream",
     "text": [
      "262312\n",
      "277410\n"
     ]
    }
   ],
   "source": [
    "print(len(rs_data))\n",
    "print(len(non_rs_data))"
   ]
  },
  {
   "cell_type": "markdown",
   "id": "3d245c3c-f7b2-472a-8ba4-27d93fef8646",
   "metadata": {},
   "source": [
    "#### RS data 112000"
   ]
  },
  {
   "cell_type": "code",
   "execution_count": 7,
   "id": "d453b913-3500-44df-b146-4227c1b5c1ad",
   "metadata": {},
   "outputs": [
    {
     "name": "stdout",
     "output_type": "stream",
     "text": [
      "Simple Command Percentage in rs data:  19.7566256976425\n",
      "One Rel Clause Command Percentage in rs data:  44.63806459483363\n",
      "Two Rel Clause Command Percentage in rs data:  35.605309707523865\n"
     ]
    }
   ],
   "source": [
    "two_relative_clause_count = 0\n",
    "one_relative_clause_count = 0 \n",
    "simple_count = 0\n",
    "\n",
    "for item in rs_data:\n",
    "    if 'and' in item['input_command']:\n",
    "        two_relative_clause_count += 1\n",
    "    if ('that' in item['input_command']) and ('and' not in item['input_command']):\n",
    "        one_relative_clause_count += 1\n",
    "    if 'that' not in item['input_command']:\n",
    "        simple_count += 1\n",
    "        \n",
    "print(\"Simple Command Percentage in rs data: \", (simple_count/len(rs_data))*100)\n",
    "print(\"One Rel Clause Command Percentage in rs data: \", (one_relative_clause_count/len(rs_data))*100)\n",
    "print(\"Two Rel Clause Command Percentage in rs data: \", (two_relative_clause_count/len(rs_data))*100)"
   ]
  },
  {
   "cell_type": "code",
   "execution_count": 8,
   "id": "d455b0ff-8088-4750-b2a4-9e023403bf7b",
   "metadata": {},
   "outputs": [
    {
     "data": {
      "text/plain": [
       "112000"
      ]
     },
     "execution_count": 8,
     "metadata": {},
     "output_type": "execute_result"
    }
   ],
   "source": [
    "random.shuffle(rs_data)\n",
    "\n",
    "sampled_rs_data = []\n",
    "\n",
    "two_relative_clause_count = 0\n",
    "one_relative_clause_count = 0 \n",
    "simple_count = 0\n",
    "\n",
    "for item in rs_data:\n",
    "    if ('and' in item['input_command']) and (two_relative_clause_count < 53104):#53104\n",
    "        sampled_rs_data.append(item)\n",
    "        two_relative_clause_count += 1\n",
    "    if (('that' in item['input_command']) and ('and' not in item['input_command'])) and (one_relative_clause_count < 41426):#41426\n",
    "        sampled_rs_data.append(item)\n",
    "        one_relative_clause_count += 1\n",
    "    if ('that' not in item['input_command']) and (simple_count < 17470):#17470\n",
    "        sampled_rs_data.append(item)\n",
    "        simple_count += 1\n",
    "        \n",
    "len(sampled_rs_data)"
   ]
  },
  {
   "cell_type": "code",
   "execution_count": 9,
   "id": "6efd5344-c64d-4c4f-a853-19eebdf01c26",
   "metadata": {},
   "outputs": [
    {
     "name": "stdout",
     "output_type": "stream",
     "text": [
      "Simple Command Percentage in sampled rs data:  15.598214285714285\n",
      "One Rel Clause Command Percentage in sampled rs data:  36.987500000000004\n",
      "Two Rel Clause Command Percentage in sampled rs data:  47.41428571428571\n"
     ]
    }
   ],
   "source": [
    "two_relative_clause_count = 0\n",
    "one_relative_clause_count = 0 \n",
    "simple_count = 0\n",
    "\n",
    "for item in sampled_rs_data:\n",
    "    if 'and' in item['input_command']:\n",
    "        two_relative_clause_count += 1\n",
    "    if ('that' in item['input_command']) and ('and' not in item['input_command']):\n",
    "        one_relative_clause_count += 1\n",
    "    if 'that' not in item['input_command']:\n",
    "        simple_count += 1\n",
    "        \n",
    "print(\"Simple Command Percentage in sampled rs data: \", (simple_count/len(sampled_rs_data))*100)\n",
    "print(\"One Rel Clause Command Percentage in sampled rs data: \", (one_relative_clause_count/len(sampled_rs_data))*100)\n",
    "print(\"Two Rel Clause Command Percentage in sampled rs data: \", (two_relative_clause_count/len(sampled_rs_data))*100)"
   ]
  },
  {
   "cell_type": "markdown",
   "id": "4412bc59-3172-4837-a64f-3ea497b8d856",
   "metadata": {},
   "source": [
    "#### Non RS data 112000"
   ]
  },
  {
   "cell_type": "code",
   "execution_count": 10,
   "id": "dbf3b712-3c5d-41ab-8bde-f2299de73f63",
   "metadata": {},
   "outputs": [
    {
     "name": "stdout",
     "output_type": "stream",
     "text": [
      "Simple Command Percentage in non rs data:  11.656032587145381\n",
      "One Rel Clause Command Percentage in non rs data:  29.757038318734004\n",
      "Two Rel Clause Command Percentage in non rs data:  58.58692909412062\n"
     ]
    }
   ],
   "source": [
    "two_relative_clause_count = 0\n",
    "one_relative_clause_count = 0 \n",
    "simple_count = 0\n",
    "\n",
    "for item in non_rs_data:\n",
    "    if 'and' in item['input_command']:\n",
    "        two_relative_clause_count += 1\n",
    "    if ('that' in item['input_command']) and ('and' not in item['input_command']):\n",
    "        one_relative_clause_count += 1\n",
    "    if 'that' not in item['input_command']:\n",
    "        simple_count += 1\n",
    "        \n",
    "print(\"Simple Command Percentage in non rs data: \", (simple_count/len(non_rs_data))*100)\n",
    "print(\"One Rel Clause Command Percentage in non rs data: \", (one_relative_clause_count/len(non_rs_data))*100)\n",
    "print(\"Two Rel Clause Command Percentage in non rs data: \", (two_relative_clause_count/len(non_rs_data))*100)"
   ]
  },
  {
   "cell_type": "code",
   "execution_count": 11,
   "id": "45291420-af07-4146-b89a-1ec94c74ac05",
   "metadata": {},
   "outputs": [
    {
     "data": {
      "text/plain": [
       "112000"
      ]
     },
     "execution_count": 11,
     "metadata": {},
     "output_type": "execute_result"
    }
   ],
   "source": [
    "random.shuffle(non_rs_data)\n",
    "\n",
    "sampled_non_rs_data = []\n",
    "\n",
    "two_relative_clause_count = 0\n",
    "one_relative_clause_count = 0 \n",
    "simple_count = 0\n",
    "\n",
    "for item in non_rs_data:\n",
    "    if ('and' in item['input_command']) and (two_relative_clause_count < 53104):#53104\n",
    "        sampled_non_rs_data.append(item)\n",
    "        two_relative_clause_count += 1\n",
    "    if (('that' in item['input_command']) and ('and' not in item['input_command'])) and (one_relative_clause_count < 41426):#41426\n",
    "        sampled_non_rs_data.append(item)\n",
    "        one_relative_clause_count += 1\n",
    "    if ('that' not in item['input_command']) and (simple_count < 17470):#17470\n",
    "        sampled_non_rs_data.append(item)\n",
    "        simple_count += 1\n",
    "        \n",
    "len(sampled_non_rs_data)"
   ]
  },
  {
   "cell_type": "code",
   "execution_count": 12,
   "id": "767866b0-0b04-48c5-bbbe-7ac106194132",
   "metadata": {},
   "outputs": [
    {
     "name": "stdout",
     "output_type": "stream",
     "text": [
      "Simple Command Percentage in sampled non rs data:  15.598214285714285\n",
      "One Rel Clause Command Percentage in sampled non rs data:  36.987500000000004\n",
      "Two Rel Clause Command Percentage in sampled non rs data:  47.41428571428571\n"
     ]
    }
   ],
   "source": [
    "two_relative_clause_count = 0\n",
    "one_relative_clause_count = 0 \n",
    "simple_count = 0\n",
    "\n",
    "for item in sampled_non_rs_data:\n",
    "    if 'and' in item['input_command']:\n",
    "        two_relative_clause_count += 1\n",
    "    if ('that' in item['input_command']) and ('and' not in item['input_command']):\n",
    "        one_relative_clause_count += 1\n",
    "    if 'that' not in item['input_command']:\n",
    "        simple_count += 1\n",
    "        \n",
    "print(\"Simple Command Percentage in sampled non rs data: \", (simple_count/len(sampled_non_rs_data))*100)\n",
    "print(\"One Rel Clause Command Percentage in sampled non rs data: \", (one_relative_clause_count/len(sampled_non_rs_data))*100)\n",
    "print(\"Two Rel Clause Command Percentage in sampled non rs data: \", (two_relative_clause_count/len(sampled_non_rs_data))*100)"
   ]
  },
  {
   "cell_type": "markdown",
   "id": "865bd1d4-7e43-421c-8af8-be9c2294cde2",
   "metadata": {},
   "source": [
    "#### RS data 200000"
   ]
  },
  {
   "cell_type": "code",
   "execution_count": 13,
   "id": "82b93f9c-c5f1-4a57-874c-8e003c762278",
   "metadata": {},
   "outputs": [
    {
     "name": "stdout",
     "output_type": "stream",
     "text": [
      "Simple Command Percentage in rs data:  19.7566256976425\n",
      "One Rel Clause Command Percentage in rs data:  44.63806459483363\n",
      "Two Rel Clause Command Percentage in rs data:  35.605309707523865\n"
     ]
    }
   ],
   "source": [
    "two_relative_clause_count = 0\n",
    "one_relative_clause_count = 0 \n",
    "simple_count = 0\n",
    "\n",
    "for item in rs_data:\n",
    "    if 'and' in item['input_command']:\n",
    "        two_relative_clause_count += 1\n",
    "    if ('that' in item['input_command']) and ('and' not in item['input_command']):\n",
    "        one_relative_clause_count += 1\n",
    "    if 'that' not in item['input_command']:\n",
    "        simple_count += 1\n",
    "        \n",
    "print(\"Simple Command Percentage in rs data: \", (simple_count/len(rs_data))*100)\n",
    "print(\"One Rel Clause Command Percentage in rs data: \", (one_relative_clause_count/len(rs_data))*100)\n",
    "print(\"Two Rel Clause Command Percentage in rs data: \", (two_relative_clause_count/len(rs_data))*100)"
   ]
  },
  {
   "cell_type": "code",
   "execution_count": 14,
   "id": "90d834cf-3eb2-461c-918d-67b89d34c77d",
   "metadata": {},
   "outputs": [
    {
     "data": {
      "text/plain": [
       "200000"
      ]
     },
     "execution_count": 14,
     "metadata": {},
     "output_type": "execute_result"
    }
   ],
   "source": [
    "random.shuffle(rs_data)\n",
    "\n",
    "sampled_rs_data_200000 = []\n",
    "\n",
    "two_relative_clause_count = 0\n",
    "one_relative_clause_count = 0 \n",
    "simple_count = 0\n",
    "\n",
    "for item in rs_data:\n",
    "    if ('and' in item['input_command']) and (two_relative_clause_count < 93397):#53104\n",
    "        sampled_rs_data_200000.append(item)\n",
    "        two_relative_clause_count += 1\n",
    "    if (('that' in item['input_command']) and ('and' not in item['input_command'])) and (one_relative_clause_count < 74000):#41426\n",
    "        sampled_rs_data_200000.append(item)\n",
    "        one_relative_clause_count += 1\n",
    "    if ('that' not in item['input_command']) and (simple_count < 32603):#17470\n",
    "        sampled_rs_data_200000.append(item)\n",
    "        simple_count += 1\n",
    "        \n",
    "len(sampled_rs_data_200000)"
   ]
  },
  {
   "cell_type": "code",
   "execution_count": 15,
   "id": "e4abd19a-e89f-49f9-bb31-c0751c000d52",
   "metadata": {},
   "outputs": [
    {
     "name": "stdout",
     "output_type": "stream",
     "text": [
      "Simple Command Percentage in sampled rs data:  16.3015\n",
      "One Rel Clause Command Percentage in sampled rs data:  37.0\n",
      "Two Rel Clause Command Percentage in sampled rs data:  46.698499999999996\n"
     ]
    }
   ],
   "source": [
    "two_relative_clause_count = 0\n",
    "one_relative_clause_count = 0 \n",
    "simple_count = 0\n",
    "\n",
    "for item in sampled_rs_data_200000:\n",
    "    if 'and' in item['input_command']:\n",
    "        two_relative_clause_count += 1\n",
    "    if ('that' in item['input_command']) and ('and' not in item['input_command']):\n",
    "        one_relative_clause_count += 1\n",
    "    if 'that' not in item['input_command']:\n",
    "        simple_count += 1\n",
    "        \n",
    "print(\"Simple Command Percentage in sampled rs data: \", (simple_count/len(sampled_rs_data_200000))*100)\n",
    "print(\"One Rel Clause Command Percentage in sampled rs data: \", (one_relative_clause_count/len(sampled_rs_data_200000))*100)\n",
    "print(\"Two Rel Clause Command Percentage in sampled rs data: \", (two_relative_clause_count/len(sampled_rs_data_200000))*100)"
   ]
  },
  {
   "cell_type": "markdown",
   "id": "62a6e5bd-5330-4a10-8d47-48f90a737c1e",
   "metadata": {},
   "source": [
    "#### Non RS data 200000"
   ]
  },
  {
   "cell_type": "code",
   "execution_count": 16,
   "id": "b87cbad6-155b-4281-9a26-d64dd322338b",
   "metadata": {},
   "outputs": [
    {
     "name": "stdout",
     "output_type": "stream",
     "text": [
      "Simple Command Percentage in non rs data:  11.656032587145381\n",
      "One Rel Clause Command Percentage in non rs data:  29.757038318734004\n",
      "Two Rel Clause Command Percentage in non rs data:  58.58692909412062\n"
     ]
    }
   ],
   "source": [
    "two_relative_clause_count = 0\n",
    "one_relative_clause_count = 0 \n",
    "simple_count = 0\n",
    "\n",
    "for item in non_rs_data:\n",
    "    if 'and' in item['input_command']:\n",
    "        two_relative_clause_count += 1\n",
    "    if ('that' in item['input_command']) and ('and' not in item['input_command']):\n",
    "        one_relative_clause_count += 1\n",
    "    if 'that' not in item['input_command']:\n",
    "        simple_count += 1\n",
    "        \n",
    "print(\"Simple Command Percentage in non rs data: \", (simple_count/len(non_rs_data))*100)\n",
    "print(\"One Rel Clause Command Percentage in non rs data: \", (one_relative_clause_count/len(non_rs_data))*100)\n",
    "print(\"Two Rel Clause Command Percentage in non rs data: \", (two_relative_clause_count/len(non_rs_data))*100)"
   ]
  },
  {
   "cell_type": "code",
   "execution_count": 17,
   "id": "c82c4423-a6d9-4772-9beb-8c57d0ce9f27",
   "metadata": {},
   "outputs": [
    {
     "data": {
      "text/plain": [
       "200000"
      ]
     },
     "execution_count": 17,
     "metadata": {},
     "output_type": "execute_result"
    }
   ],
   "source": [
    "random.shuffle(non_rs_data)\n",
    "\n",
    "sampled_non_rs_data_200000 = []\n",
    "\n",
    "two_relative_clause_count = 0\n",
    "one_relative_clause_count = 0 \n",
    "simple_count = 0\n",
    "\n",
    "for item in non_rs_data:\n",
    "    if ('and' in item['input_command']) and (two_relative_clause_count < 94945):#53104\n",
    "        sampled_non_rs_data_200000.append(item)\n",
    "        two_relative_clause_count += 1\n",
    "    if (('that' in item['input_command']) and ('and' not in item['input_command'])) and (one_relative_clause_count < 73935):#41426\n",
    "        sampled_non_rs_data_200000.append(item)\n",
    "        one_relative_clause_count += 1\n",
    "    if ('that' not in item['input_command']) and (simple_count < 31120):#17470\n",
    "        sampled_non_rs_data_200000.append(item)\n",
    "        simple_count += 1\n",
    "        \n",
    "len(sampled_non_rs_data_200000)"
   ]
  },
  {
   "cell_type": "code",
   "execution_count": 18,
   "id": "43d178b1-4095-4209-b743-08eac268ad06",
   "metadata": {},
   "outputs": [
    {
     "name": "stdout",
     "output_type": "stream",
     "text": [
      "Simple Command Percentage in sampled non rs data:  15.559999999999999\n",
      "One Rel Clause Command Percentage in sampled non rs data:  36.9675\n",
      "Two Rel Clause Command Percentage in sampled non rs data:  47.472500000000004\n"
     ]
    }
   ],
   "source": [
    "two_relative_clause_count = 0\n",
    "one_relative_clause_count = 0 \n",
    "simple_count = 0\n",
    "\n",
    "for item in sampled_non_rs_data_200000:\n",
    "    if 'and' in item['input_command']:\n",
    "        two_relative_clause_count += 1\n",
    "    if ('that' in item['input_command']) and ('and' not in item['input_command']):\n",
    "        one_relative_clause_count += 1\n",
    "    if 'that' not in item['input_command']:\n",
    "        simple_count += 1\n",
    "        \n",
    "print(\"Simple Command Percentage in sampled non rs data: \", (simple_count/len(sampled_non_rs_data_200000))*100)\n",
    "print(\"One Rel Clause Command Percentage in sampled non rs data: \", (one_relative_clause_count/len(sampled_non_rs_data_200000))*100)\n",
    "print(\"Two Rel Clause Command Percentage in sampled non rs data: \", (two_relative_clause_count/len(sampled_non_rs_data_200000))*100)"
   ]
  },
  {
   "cell_type": "markdown",
   "id": "b91132ce-cf1c-4c84-8d5e-21e9afa45119",
   "metadata": {},
   "source": [
    "#### Random 200000"
   ]
  },
  {
   "cell_type": "code",
   "execution_count": 19,
   "id": "9e8d1cb3-87ad-45f8-beb3-24e940a9c25e",
   "metadata": {},
   "outputs": [],
   "source": [
    "data_200000 = random.sample(data, 200000)"
   ]
  },
  {
   "cell_type": "code",
   "execution_count": 20,
   "id": "ca886c2a-e505-4289-9cb6-e244ce0e6cb7",
   "metadata": {},
   "outputs": [
    {
     "name": "stdout",
     "output_type": "stream",
     "text": [
      "Simple Command Percentage in sampled non rs data:  15.6095\n",
      "One Rel Clause Command Percentage in sampled non rs data:  36.8375\n",
      "Two Rel Clause Command Percentage in sampled non rs data:  47.553\n"
     ]
    }
   ],
   "source": [
    "two_relative_clause_count = 0\n",
    "one_relative_clause_count = 0 \n",
    "simple_count = 0\n",
    "\n",
    "for item in data_200000:\n",
    "    if 'and' in item['input_command']:\n",
    "        two_relative_clause_count += 1\n",
    "    if ('that' in item['input_command']) and ('and' not in item['input_command']):\n",
    "        one_relative_clause_count += 1\n",
    "    if 'that' not in item['input_command']:\n",
    "        simple_count += 1\n",
    "        \n",
    "print(\"Simple Command Percentage in sampled non rs data: \", (simple_count/len(data_200000))*100)\n",
    "print(\"One Rel Clause Command Percentage in sampled non rs data: \", (one_relative_clause_count/len(data_200000))*100)\n",
    "print(\"Two Rel Clause Command Percentage in sampled non rs data: \", (two_relative_clause_count/len(data_200000))*100)"
   ]
  },
  {
   "cell_type": "markdown",
   "id": "07ab4436-4204-4270-9909-473032c6a59e",
   "metadata": {},
   "source": [
    "### Write data"
   ]
  },
  {
   "cell_type": "code",
   "execution_count": 21,
   "id": "0c34567a-1c87-4b43-baee-36ce056437d0",
   "metadata": {},
   "outputs": [],
   "source": [
    "with open('./data/custom/a2_exp/sampled_rs_data_112000.json', 'w') as f:\n",
    "    for line in sampled_rs_data:\n",
    "        f.write(json.dumps(line) + '\\n')"
   ]
  },
  {
   "cell_type": "code",
   "execution_count": 22,
   "id": "41028529-77c5-47ce-9327-e1ae381844d8",
   "metadata": {},
   "outputs": [],
   "source": [
    "with open('./data/custom/a2_exp/sampled_non_rs_data_112000.json', 'w') as f:\n",
    "    for line in sampled_non_rs_data:\n",
    "        f.write(json.dumps(line) + '\\n')"
   ]
  },
  {
   "cell_type": "code",
   "execution_count": 21,
   "id": "12bdf88a-ae47-414f-b8e5-49b3afd41fc5",
   "metadata": {},
   "outputs": [],
   "source": [
    "with open('./data/custom/a2_exp/sampled_rs_data_200000.json', 'w') as f:\n",
    "    for line in sampled_rs_data_200000:\n",
    "        f.write(json.dumps(line) + '\\n')"
   ]
  },
  {
   "cell_type": "code",
   "execution_count": 22,
   "id": "d5c75516-486a-4959-9471-7f0d436043bb",
   "metadata": {},
   "outputs": [],
   "source": [
    "with open('./data/custom/a2_exp/sampled_non_rs_data_200000.json', 'w') as f:\n",
    "    for line in sampled_non_rs_data_200000:\n",
    "        f.write(json.dumps(line) + '\\n')"
   ]
  },
  {
   "cell_type": "code",
   "execution_count": 23,
   "id": "0ff051d8-0718-44ab-8649-8233b7aa3a84",
   "metadata": {},
   "outputs": [],
   "source": [
    "with open('./data/custom/a2_exp/train_random_200000.json', 'w') as f:\n",
    "    for line in data_200000:\n",
    "        f.write(json.dumps(line) + '\\n')"
   ]
  },
  {
   "cell_type": "code",
   "execution_count": null,
   "id": "de23d873-0ce8-44a6-8dfe-7c1ca27cb1b4",
   "metadata": {},
   "outputs": [],
   "source": []
  }
 ],
 "metadata": {
  "kernelspec": {
   "display_name": "reascan",
   "language": "python",
   "name": "reascan"
  },
  "language_info": {
   "codemirror_mode": {
    "name": "ipython",
    "version": 3
   },
   "file_extension": ".py",
   "mimetype": "text/x-python",
   "name": "python",
   "nbconvert_exporter": "python",
   "pygments_lexer": "ipython3",
   "version": "3.7.13"
  }
 },
 "nbformat": 4,
 "nbformat_minor": 5
}
