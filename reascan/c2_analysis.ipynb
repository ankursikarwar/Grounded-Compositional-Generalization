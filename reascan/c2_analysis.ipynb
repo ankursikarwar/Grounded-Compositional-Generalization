{
 "cells": [
  {
   "cell_type": "code",
   "execution_count": 11,
   "id": "3143ca0b-721e-4242-b909-23f038487aa1",
   "metadata": {},
   "outputs": [],
   "source": [
    "from attrdict import AttrDict\n",
    "try:\n",
    "\timport cPickle as pickle\n",
    "except ImportError:\n",
    "\timport pickle\n",
    "    \n",
    "from src.dataloader import *\n",
    "from src.model_dual import *\n",
    "from src.model_target import *\n",
    "from src.train import *\n",
    "from src.train_target import *\n",
    "    \n",
    "device = 'cuda:0'"
   ]
  },
  {
   "cell_type": "code",
   "execution_count": 12,
   "id": "5e00e96a-8d1e-4748-9089-8e48195ca114",
   "metadata": {},
   "outputs": [],
   "source": [
    "with open('./models/EMNLP_Final__12_6_enc_dec_layers_interleave_co_self_reascan__learned_pos_embed__lr_0.0001__bs_32__epochs_100__gpu_0__3420/config.p', 'rb') as f:\n",
    "    config = AttrDict(pickle.load(f))\n",
    "    \n",
    "with open('./models/EMNLP_Final__12_6_enc_dec_layers_interleave_co_self_reascan__learned_pos_embed__lr_0.0001__bs_32__epochs_100__gpu_0__3420/config_target_predictor.p', 'rb') as f:\n",
    "    model_config = AttrDict(pickle.load(f))"
   ]
  },
  {
   "cell_type": "code",
   "execution_count": 13,
   "id": "889a6514-23cf-4aeb-9ce3-85ec4919ff73",
   "metadata": {},
   "outputs": [],
   "source": [
    "config.include_target = False"
   ]
  },
  {
   "cell_type": "code",
   "execution_count": 14,
   "id": "5f2dc14f-48d1-4518-a0c0-858155e6bd90",
   "metadata": {},
   "outputs": [],
   "source": [
    "command_lang = torch.load('./models/EMNLP_Final__12_6_enc_dec_layers_interleave_co_self_reascan__learned_pos_embed__lr_0.0001__bs_32__epochs_100__gpu_0__3420/command_lang.pth')\n",
    "action_lang = torch.load('./models/EMNLP_Final__12_6_enc_dec_layers_interleave_co_self_reascan__learned_pos_embed__lr_0.0001__bs_32__epochs_100__gpu_0__3420/action_lang.pth')"
   ]
  },
  {
   "cell_type": "code",
   "execution_count": 15,
   "id": "2997baa8-ae20-454f-a833-925c06001ce0",
   "metadata": {},
   "outputs": [
    {
     "data": {
      "text/plain": [
       "<All keys matched successfully>"
      ]
     },
     "execution_count": 15,
     "metadata": {},
     "output_type": "execute_result"
    }
   ],
   "source": [
    "model = MultiModalModel_Dual(config).to(device)\n",
    "\n",
    "checkpoint = torch.load('./models/EMNLP_Final__12_6_enc_dec_layers_interleave_co_self_reascan__learned_pos_embed__lr_0.0001__bs_32__epochs_100__gpu_0__3420/model.pt', map_location=device)\n",
    "model.load_state_dict(checkpoint['model_state_dict'])"
   ]
  },
  {
   "cell_type": "code",
   "execution_count": 16,
   "id": "a9633b37-3a57-4f5a-8aae-854f40ab95c7",
   "metadata": {},
   "outputs": [
    {
     "data": {
      "text/plain": [
       "<All keys matched successfully>"
      ]
     },
     "execution_count": 16,
     "metadata": {},
     "output_type": "execute_result"
    }
   ],
   "source": [
    "target_predictor = Target_Predictor(model, model_config).to(device)\n",
    "\n",
    "checkpoint = torch.load('./models/EMNLP_Final__12_6_enc_dec_layers_interleave_co_self_reascan__learned_pos_embed__lr_0.0001__bs_32__epochs_100__gpu_0__3420/target_predictor.pt', map_location=device)\n",
    "target_predictor.load_state_dict(checkpoint['model_state_dict'])"
   ]
  },
  {
   "cell_type": "code",
   "execution_count": null,
   "id": "7eb711b5-c12a-4529-b00c-b84ee165e736",
   "metadata": {},
   "outputs": [],
   "source": [
    "test_data_paths = ['./data/ReaSCAN-v1.1/ReaSCAN-compositional-a1/test__and_replaced.json', \n",
    "                   './data/ReaSCAN-v1.1/ReaSCAN-compositional-a2/test__and_replaced.json', \n",
    "                   './data/ReaSCAN-v1.1/ReaSCAN-compositional-a3/test__and_replaced.json', \n",
    "                   './data/ReaSCAN-v1.1/ReaSCAN-compositional-b1/test__and_replaced.json', \n",
    "                   './data/ReaSCAN-v1.1/ReaSCAN-compositional-b2/test__and_replaced.json', \n",
    "                   './data/ReaSCAN-v1.1/ReaSCAN-compositional-c1/test__and_replaced.json', \n",
    "                   './data/ReaSCAN-v1.1/ReaSCAN-compositional-c2/test__and_replaced.json', \n",
    "                   './data/custom/new_c1_c2_splits/new_c1__and_replaced.json', \n",
    "                   './data/custom/new_c1_c2_splits/new_c2__and_replaced.json']\n",
    "\n",
    "action_seq_errors_all_splits__and_replaced = []\n",
    "target_errors_all_splits__and_replaced = []\n",
    "\n",
    "for index, test_path in enumerate(test_data_paths):\n",
    "    test_dataloader = dataloader(test_path, device, batch_size=config.batch_size, random_shuffle=False)\n",
    "    \n",
    "    action_seq_errors = []\n",
    "    target_errors = []\n",
    "    \n",
    "    test_acc_action, action_seq_errors = validate_one_epoch(model, test_dataloader, command_lang, \n",
    "                                  action_lang, device, config, logger=None, exact_match=True, errors=action_seq_errors)\n",
    "    \n",
    "    _, test_acc_target, target_errors = validate_one_epoch_target(target_predictor, test_dataloader, command_lang, \n",
    "                                            action_lang, device, config, logger=None, errors=target_errors)\n",
    "    \n",
    "    print(test_path)\n",
    "    print(test_acc_action)\n",
    "    print(test_acc_target)\n",
    "    \n",
    "    action_seq_errors_all_splits__and_replaced.append(action_seq_errors)\n",
    "    target_errors_all_splits__and_replaced.append(target_errors)"
   ]
  },
  {
   "cell_type": "code",
   "execution_count": null,
   "id": "3f0af9cc-48e2-4570-9729-4349a17f7a32",
   "metadata": {},
   "outputs": [],
   "source": []
  },
  {
   "cell_type": "markdown",
   "id": "ecdd42da-a221-451f-9bd1-9826274cfbe0",
   "metadata": {},
   "source": [
    "## Alternate Hypothesis Analysis"
   ]
  },
  {
   "cell_type": "code",
   "execution_count": 8,
   "id": "39cac79a-2726-4554-85cb-a737f113e7f3",
   "metadata": {},
   "outputs": [
    {
     "name": "stderr",
     "output_type": "stream",
     "text": [
      "251it [01:52,  2.23it/s]"
     ]
    },
    {
     "name": "stdout",
     "output_type": "stream",
     "text": [
      "./data/ReaSCAN-v1.1/ReaSCAN-compositional-c2/test.json\n",
      "0.30826693227091634\n"
     ]
    },
    {
     "name": "stderr",
     "output_type": "stream",
     "text": [
      "\n"
     ]
    }
   ],
   "source": [
    "test_data_paths = ['./data/ReaSCAN-v1.1/ReaSCAN-compositional-c2/test.json']\n",
    "\n",
    "for index, test_path in enumerate(test_data_paths):\n",
    "    test_dataloader = dataloader(test_path, device, batch_size=config.batch_size, random_shuffle=False)\n",
    "    \n",
    "    test_acc_action, _ = validate_one_epoch(model, test_dataloader, command_lang, \n",
    "                                  action_lang, device, config, logger=None, exact_match=True)\n",
    "    \n",
    "    print(test_path)\n",
    "    print(test_acc_action)"
   ]
  },
  {
   "cell_type": "code",
   "execution_count": 9,
   "id": "0b8c7285-0fdc-4919-874e-bb816b32b268",
   "metadata": {},
   "outputs": [
    {
     "name": "stderr",
     "output_type": "stream",
     "text": [
      "251it [01:53,  2.21it/s]"
     ]
    },
    {
     "name": "stdout",
     "output_type": "stream",
     "text": [
      "./data/ReaSCAN-v1.1/ReaSCAN-compositional-c2/test__that_is_replaced.json\n",
      "0.3062749003984064\n"
     ]
    },
    {
     "name": "stderr",
     "output_type": "stream",
     "text": [
      "\n"
     ]
    }
   ],
   "source": [
    "test_data_paths = ['./data/ReaSCAN-v1.1/ReaSCAN-compositional-c2/test__that_is_replaced.json']\n",
    "\n",
    "for index, test_path in enumerate(test_data_paths):\n",
    "    test_dataloader = dataloader(test_path, device, batch_size=config.batch_size, random_shuffle=False)\n",
    "    \n",
    "    test_acc_action, _ = validate_one_epoch(model, test_dataloader, command_lang, \n",
    "                                  action_lang, device, config, logger=None, exact_match=True)\n",
    "    \n",
    "    print(test_path)\n",
    "    print(test_acc_action)"
   ]
  },
  {
   "cell_type": "code",
   "execution_count": 17,
   "id": "919e50a8-fe6e-481d-ab01-f0213ef5cde2",
   "metadata": {},
   "outputs": [
    {
     "name": "stderr",
     "output_type": "stream",
     "text": [
      "117it [00:50,  2.29it/s]"
     ]
    },
    {
     "name": "stdout",
     "output_type": "stream",
     "text": [
      "./data/ReaSCAN-v1.1/ReaSCAN-compositional-c2/test__gt_that_is_replaced.json\n",
      "0.1573648272017837\n"
     ]
    },
    {
     "name": "stderr",
     "output_type": "stream",
     "text": [
      "\n"
     ]
    }
   ],
   "source": [
    "test_data_paths = ['./data/ReaSCAN-v1.1/ReaSCAN-compositional-c2/test__gt_that_is_replaced.json']\n",
    "\n",
    "for index, test_path in enumerate(test_data_paths):\n",
    "    test_dataloader = dataloader(test_path, device, batch_size=config.batch_size, random_shuffle=False)\n",
    "    \n",
    "    test_acc_action, _ = validate_one_epoch(model, test_dataloader, command_lang, \n",
    "                                  action_lang, device, config, logger=None, exact_match=True)\n",
    "    \n",
    "    print(test_path)\n",
    "    print(test_acc_action)"
   ]
  },
  {
   "cell_type": "code",
   "execution_count": 18,
   "id": "4e69bbc2-8949-4f67-b5fe-bbecc44ccf6f",
   "metadata": {},
   "outputs": [
    {
     "name": "stderr",
     "output_type": "stream",
     "text": [
      "117it [00:51,  2.29it/s]"
     ]
    },
    {
     "name": "stdout",
     "output_type": "stream",
     "text": [
      "./data/ReaSCAN-v1.1/ReaSCAN-compositional-c2/test__gt_command_that_is_replaced.json\n",
      "0.15335841694537347\n"
     ]
    },
    {
     "name": "stderr",
     "output_type": "stream",
     "text": [
      "\n"
     ]
    }
   ],
   "source": [
    "test_data_paths = ['./data/ReaSCAN-v1.1/ReaSCAN-compositional-c2/test__gt_command_that_is_replaced.json']\n",
    "\n",
    "for index, test_path in enumerate(test_data_paths):\n",
    "    test_dataloader = dataloader(test_path, device, batch_size=config.batch_size, random_shuffle=False)\n",
    "    \n",
    "    test_acc_action, _ = validate_one_epoch(model, test_dataloader, command_lang, \n",
    "                                  action_lang, device, config, logger=None, exact_match=True)\n",
    "    \n",
    "    print(test_path)\n",
    "    print(test_acc_action)"
   ]
  },
  {
   "cell_type": "code",
   "execution_count": null,
   "id": "d9545137-0512-4aab-be7f-afd29674dfdd",
   "metadata": {},
   "outputs": [],
   "source": []
  }
 ],
 "metadata": {
  "kernelspec": {
   "display_name": "reascan",
   "language": "python",
   "name": "reascan"
  },
  "language_info": {
   "codemirror_mode": {
    "name": "ipython",
    "version": 3
   },
   "file_extension": ".py",
   "mimetype": "text/x-python",
   "name": "python",
   "nbconvert_exporter": "python",
   "pygments_lexer": "ipython3",
   "version": "3.6.9"
  }
 },
 "nbformat": 4,
 "nbformat_minor": 5
}
