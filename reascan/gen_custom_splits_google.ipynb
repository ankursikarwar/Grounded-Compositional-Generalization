{
 "cells": [
  {
   "cell_type": "code",
   "execution_count": 1,
   "id": "ccbe68b7-4ebb-4717-b217-f3d5a132975a",
   "metadata": {},
   "outputs": [],
   "source": [
    "import json\n",
    "\n",
    "import random\n",
    "random.seed(1249)\n",
    "\n",
    "#Set ReaSCAN data path\n",
    "data_path = './data/spatial_relation_splits/'"
   ]
  },
  {
   "cell_type": "markdown",
   "id": "319f5e5a-50c6-4fcd-a5d6-3570a94606f7",
   "metadata": {},
   "source": [
    "### Custom Dev Split"
   ]
  },
  {
   "cell_type": "code",
   "execution_count": 2,
   "id": "cdac5906-4ec3-489c-ac0e-93d185dfa077",
   "metadata": {},
   "outputs": [],
   "source": [
    "data_visual = [json.loads(line) for line in open(data_path + 'visual.json', 'r')]\n",
    "data_relation = [json.loads(line) for line in open(data_path + 'relation.json', 'r')]\n",
    "data_relative_position_1 = [json.loads(line) for line in open(data_path + 'relative_position_1.json', 'r')]\n",
    "data_relative_position_2 = [json.loads(line) for line in open(data_path + 'relative_position_2.json', 'r')]\n",
    "data_referent = [json.loads(line) for line in open(data_path + 'referent.json', 'r')]"
   ]
  },
  {
   "cell_type": "code",
   "execution_count": 3,
   "id": "8b5c0b30-242d-458c-a9fd-56431a19ecdf",
   "metadata": {},
   "outputs": [],
   "source": [
    "data_visual_1000 = random.sample(data_visual, 1000)\n",
    "data_relation_1000 = random.sample(data_relation, 1000)\n",
    "data_relative_position_1_1000 = random.sample(data_relative_position_1, 1000)\n",
    "data_relative_position_2_1000 = random.sample(data_relative_position_2, 1000)\n",
    "data_referent_1000 = random.sample(data_referent, 1000)\n",
    "\n",
    "dev_comp_5000 = data_visual_1000 + data_relation_1000 + data_relative_position_1_1000 + data_relative_position_2_1000 + data_referent_1000\n",
    "random.shuffle(dev_comp_5000)"
   ]
  },
  {
   "cell_type": "code",
   "execution_count": 4,
   "id": "1f5cae9a-0118-4f7c-b019-3d071bcda99a",
   "metadata": {},
   "outputs": [],
   "source": [
    "with open('./data/spatial_relation_splits/dev_comp.json', 'w') as f:\n",
    "    for line in dev_comp_5000:\n",
    "        f.write(json.dumps(line) + '\\n')"
   ]
  },
  {
   "cell_type": "code",
   "execution_count": 5,
   "id": "a5cc5883-9b09-4f63-8e67-b78a57ac6bcb",
   "metadata": {},
   "outputs": [],
   "source": [
    "data_visual_500 = random.sample(data_visual, 500)\n",
    "data_relation_500 = random.sample(data_relation, 500)\n",
    "data_relative_position_1_500 = random.sample(data_relative_position_1, 500)\n",
    "data_relative_position_2_500 = random.sample(data_relative_position_2, 500)\n",
    "data_referent_500 = random.sample(data_referent, 500)\n",
    "\n",
    "dev_comp_2500 = data_visual_500 + data_relation_500 + data_relative_position_1_500 + data_relative_position_2_500 + data_referent_500\n",
    "random.shuffle(dev_comp_2500)"
   ]
  },
  {
   "cell_type": "code",
   "execution_count": 6,
   "id": "bd4afa8e-1708-4f8a-8c1e-5ab2b535971d",
   "metadata": {},
   "outputs": [],
   "source": [
    "with open('./data/spatial_relation_splits/dev_comp_2500.json', 'w') as f:\n",
    "    for line in dev_comp_2500:\n",
    "        f.write(json.dumps(line) + '\\n')"
   ]
  },
  {
   "cell_type": "code",
   "execution_count": null,
   "id": "e0785134-3064-4594-88ad-ae4800cf7e8b",
   "metadata": {},
   "outputs": [],
   "source": []
  }
 ],
 "metadata": {
  "kernelspec": {
   "display_name": "reascan",
   "language": "python",
   "name": "reascan"
  },
  "language_info": {
   "codemirror_mode": {
    "name": "ipython",
    "version": 3
   },
   "file_extension": ".py",
   "mimetype": "text/x-python",
   "name": "python",
   "nbconvert_exporter": "python",
   "pygments_lexer": "ipython3",
   "version": "3.7.13"
  }
 },
 "nbformat": 4,
 "nbformat_minor": 5
}
