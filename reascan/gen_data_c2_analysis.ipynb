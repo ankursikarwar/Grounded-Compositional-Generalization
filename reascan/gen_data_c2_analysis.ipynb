{
 "cells": [
  {
   "cell_type": "markdown",
   "id": "37d5766c-f633-444c-ad6f-3bb1b43a4a48",
   "metadata": {},
   "source": [
    "## Generate compositional splits where 'and' is replaced with 'that is'"
   ]
  },
  {
   "cell_type": "code",
   "execution_count": 1,
   "id": "a6e02d23-bcd0-4c69-a903-1eb26f4024e6",
   "metadata": {},
   "outputs": [],
   "source": [
    "import json"
   ]
  },
  {
   "cell_type": "code",
   "execution_count": null,
   "id": "6072c9f8-1a94-4025-bef8-0c608bdf848f",
   "metadata": {},
   "outputs": [],
   "source": [
    "data_a1 = [json.loads(line) for line in open('./data/ReaSCAN-v1.1/ReaSCAN-compositional-a1/test.json', 'r')]\n",
    "data_a2 = [json.loads(line) for line in open('./data/ReaSCAN-v1.1/ReaSCAN-compositional-a2/test.json', 'r')]\n",
    "data_a3 = [json.loads(line) for line in open('./data/ReaSCAN-v1.1/ReaSCAN-compositional-a3/test.json', 'r')]\n",
    "data_b1 = [json.loads(line) for line in open('./data/ReaSCAN-v1.1/ReaSCAN-compositional-b1/test.json', 'r')]\n",
    "data_b2 = [json.loads(line) for line in open('./data/ReaSCAN-v1.1/ReaSCAN-compositional-b2/test.json', 'r')]\n",
    "data_c1 = [json.loads(line) for line in open('./data/ReaSCAN-v1.1/ReaSCAN-compositional-c1/test.json', 'r')]\n",
    "data_c2 = [json.loads(line) for line in open('./data/ReaSCAN-v1.1/ReaSCAN-compositional-c2/test.json', 'r')]\n",
    "data_new_c1 = [json.loads(line) for line in open('./data/custom/new_c1_c2_splits/new_c1.json', 'r')]\n",
    "data_new_c2 = [json.loads(line) for line in open('./data/custom/new_c1_c2_splits/new_c2.json', 'r')]"
   ]
  },
  {
   "cell_type": "code",
   "execution_count": null,
   "id": "02182c50-ad2e-4efa-93ef-fc6d470d1ef1",
   "metadata": {},
   "outputs": [],
   "source": [
    "for index, example in enumerate(data_a1):\n",
    "    input_command = []\n",
    "    for item in example['input_command']:\n",
    "        if item == 'and':\n",
    "            input_command.append('that')\n",
    "            input_command.append('is')\n",
    "        else:\n",
    "            input_command.append(item)\n",
    "    \n",
    "    data_a1[index]['input_command'] = input_command"
   ]
  },
  {
   "cell_type": "code",
   "execution_count": null,
   "id": "71cf78be-234f-46d3-b3c0-2e0d7619fe40",
   "metadata": {},
   "outputs": [],
   "source": [
    "for index, example in enumerate(data_a2):\n",
    "    input_command = []\n",
    "    for item in example['input_command']:\n",
    "        if item == 'and':\n",
    "            input_command.append('that')\n",
    "            input_command.append('is')\n",
    "        else:\n",
    "            input_command.append(item)\n",
    "    \n",
    "    data_a2[index]['input_command'] = input_command"
   ]
  },
  {
   "cell_type": "code",
   "execution_count": null,
   "id": "e398bc09-9994-4d10-8f7b-aac9038ebc87",
   "metadata": {},
   "outputs": [],
   "source": [
    "for index, example in enumerate(data_a3):\n",
    "    input_command = []\n",
    "    for item in example['input_command']:\n",
    "        if item == 'and':\n",
    "            input_command.append('that')\n",
    "            input_command.append('is')\n",
    "        else:\n",
    "            input_command.append(item)\n",
    "    \n",
    "    data_a3[index]['input_command'] = input_command"
   ]
  },
  {
   "cell_type": "code",
   "execution_count": null,
   "id": "c23e3730-629e-4388-813c-2eb6a3ee804d",
   "metadata": {},
   "outputs": [],
   "source": [
    "for index, example in enumerate(data_b1):\n",
    "    input_command = []\n",
    "    for item in example['input_command']:\n",
    "        if item == 'and':\n",
    "            input_command.append('that')\n",
    "            input_command.append('is')\n",
    "        else:\n",
    "            input_command.append(item)\n",
    "    \n",
    "    data_b1[index]['input_command'] = input_command"
   ]
  },
  {
   "cell_type": "code",
   "execution_count": null,
   "id": "72e0c003-39c5-42cd-9428-6797e6fd9936",
   "metadata": {},
   "outputs": [],
   "source": [
    "for index, example in enumerate(data_b2):\n",
    "    input_command = []\n",
    "    for item in example['input_command']:\n",
    "        if item == 'and':\n",
    "            input_command.append('that')\n",
    "            input_command.append('is')\n",
    "        else:\n",
    "            input_command.append(item)\n",
    "    \n",
    "    data_b2[index]['input_command'] = input_command"
   ]
  },
  {
   "cell_type": "code",
   "execution_count": null,
   "id": "3457329b-0fe9-4474-9952-a97c5ff69290",
   "metadata": {},
   "outputs": [],
   "source": [
    "for index, example in enumerate(data_c1):\n",
    "    input_command = []\n",
    "    for item in example['input_command']:\n",
    "        if item == 'and':\n",
    "            input_command.append('that')\n",
    "            input_command.append('is')\n",
    "        else:\n",
    "            input_command.append(item)\n",
    "    \n",
    "    data_c1[index]['input_command'] = input_command"
   ]
  },
  {
   "cell_type": "code",
   "execution_count": null,
   "id": "87a0369e-7b70-40d4-b7a0-84a7438151b9",
   "metadata": {},
   "outputs": [],
   "source": [
    "for index, example in enumerate(data_c2):\n",
    "    input_command = []\n",
    "    for item in example['input_command']:\n",
    "        if item == 'and':\n",
    "            input_command.append('that')\n",
    "            input_command.append('is')\n",
    "        else:\n",
    "            input_command.append(item)\n",
    "    \n",
    "    data_c2[index]['input_command'] = input_command"
   ]
  },
  {
   "cell_type": "code",
   "execution_count": null,
   "id": "e4c5ccc2-936d-4f23-a13c-73c15267b17d",
   "metadata": {},
   "outputs": [],
   "source": [
    "for index, example in enumerate(data_new_c1):\n",
    "    input_command = []\n",
    "    for item in example['input_command']:\n",
    "        if item == 'and':\n",
    "            input_command.append('that')\n",
    "            input_command.append('is')\n",
    "        else:\n",
    "            input_command.append(item)\n",
    "    \n",
    "    data_new_c1[index]['input_command'] = input_command"
   ]
  },
  {
   "cell_type": "code",
   "execution_count": null,
   "id": "53238d3f-2a74-4447-848f-09d2a64c8a5b",
   "metadata": {},
   "outputs": [],
   "source": [
    "for index, example in enumerate(data_new_c2):\n",
    "    input_command = []\n",
    "    for item in example['input_command']:\n",
    "        if item == 'and':\n",
    "            input_command.append('that')\n",
    "            input_command.append('is')\n",
    "        else:\n",
    "            input_command.append(item)\n",
    "    \n",
    "    data_new_c2[index]['input_command'] = input_command"
   ]
  },
  {
   "cell_type": "code",
   "execution_count": null,
   "id": "a56dcd10-a038-41c0-a7aa-8b38d54c4f0a",
   "metadata": {},
   "outputs": [],
   "source": [
    "with open('./data/ReaSCAN-v1.1/ReaSCAN-compositional-a1/test__and_replaced.json', 'w') as f:\n",
    "    for line in data_a1:\n",
    "        f.write(json.dumps(line) + '\\n')\n",
    "        \n",
    "with open('./data/ReaSCAN-v1.1/ReaSCAN-compositional-a2/test__and_replaced.json', 'w') as f:\n",
    "    for line in data_a2:\n",
    "        f.write(json.dumps(line) + '\\n')\n",
    "        \n",
    "with open('./data/ReaSCAN-v1.1/ReaSCAN-compositional-a3/test__and_replaced.json', 'w') as f:\n",
    "    for line in data_a3:\n",
    "        f.write(json.dumps(line) + '\\n')\n",
    "\n",
    "with open('./data/ReaSCAN-v1.1/ReaSCAN-compositional-b1/test__and_replaced.json', 'w') as f:\n",
    "    for line in data_b1:\n",
    "        f.write(json.dumps(line) + '\\n')\n",
    "        \n",
    "with open('./data/ReaSCAN-v1.1/ReaSCAN-compositional-b2/test__and_replaced.json', 'w') as f:\n",
    "    for line in data_b2:\n",
    "        f.write(json.dumps(line) + '\\n')\n",
    "        \n",
    "with open('./data/ReaSCAN-v1.1/ReaSCAN-compositional-c1/test__and_replaced.json', 'w') as f:\n",
    "    for line in data_c1:\n",
    "        f.write(json.dumps(line) + '\\n')\n",
    "        \n",
    "with open('./data/ReaSCAN-v1.1/ReaSCAN-compositional-c2/test__and_replaced.json', 'w') as f:\n",
    "    for line in data_c2:\n",
    "        f.write(json.dumps(line) + '\\n')\n",
    "        \n",
    "with open('./data/custom/new_c1_c2_splits/new_c1__and_replaced.json', 'w') as f:\n",
    "    for line in data_new_c1:\n",
    "        f.write(json.dumps(line) + '\\n')\n",
    "        \n",
    "with open('./data/custom/new_c1_c2_splits/new_c2__and_replaced.json', 'w') as f:\n",
    "    for line in data_new_c2:\n",
    "        f.write(json.dumps(line) + '\\n')"
   ]
  },
  {
   "cell_type": "markdown",
   "id": "737c5fc9-6318-4cc4-ab2b-c26f8964abe7",
   "metadata": {},
   "source": [
    "## Generate c2 splits where 'that is' is replaced with 'and'"
   ]
  },
  {
   "cell_type": "code",
   "execution_count": 3,
   "id": "ac5243e9-a1a8-4798-862d-8c02d0743153",
   "metadata": {},
   "outputs": [],
   "source": [
    "data_c2 = [json.loads(line) for line in open('./data/ReaSCAN-v1.1/ReaSCAN-compositional-c2/test.json', 'r')]"
   ]
  },
  {
   "cell_type": "code",
   "execution_count": 4,
   "id": "fa928d11-f5ac-4487-a6d2-6767bfb98ead",
   "metadata": {},
   "outputs": [],
   "source": [
    "for index, example in enumerate(data_c2):\n",
    "    input_command = []\n",
    "    that_is_flag = False\n",
    "    for word in example['input_command']:\n",
    "        if word == 'that' and that_is_flag == True:\n",
    "            input_command.append('and')\n",
    "\n",
    "        elif word == 'that' and that_is_flag == False:\n",
    "            input_command.append(word)\n",
    "\n",
    "        elif word == 'is' and that_is_flag == False:\n",
    "            input_command.append(word)\n",
    "            that_is_flag = True\n",
    "\n",
    "        elif word == 'is' and that_is_flag == True:\n",
    "            that_is_flag = True\n",
    "\n",
    "        elif word != 'that' and word != 'is':\n",
    "            input_command.append(word)\n",
    "    \n",
    "    data_c2[index]['input_command'] = input_command\n",
    "    \n",
    "with open('./data/ReaSCAN-v1.1/ReaSCAN-compositional-c2/test__that_is_replaced.json', 'w') as f:\n",
    "    for line in data_c2:\n",
    "        f.write(json.dumps(line) + '\\n')"
   ]
  },
  {
   "cell_type": "markdown",
   "id": "98f2fe60-4b38-43fb-850e-4172b56f632e",
   "metadata": {},
   "source": [
    "## Generate c2 splits where ground truth is replaced with alternate hypothesis"
   ]
  },
  {
   "cell_type": "code",
   "execution_count": 13,
   "id": "32003d5c-b120-4a65-9f6c-a6de0b719b87",
   "metadata": {},
   "outputs": [],
   "source": [
    "import json\n",
    "from src.utils.analysis_utils import *"
   ]
  },
  {
   "cell_type": "code",
   "execution_count": 14,
   "id": "def036c7-3d7e-4d2f-8bc7-d001e90bd71e",
   "metadata": {},
   "outputs": [],
   "source": [
    "data_c2 = [json.loads(line) for line in open('./data/ReaSCAN-v1.1/ReaSCAN-compositional-c2/test.json', 'r')]"
   ]
  },
  {
   "cell_type": "code",
   "execution_count": 15,
   "id": "3f7117e3-985f-44b6-bb30-2693ff7d624d",
   "metadata": {},
   "outputs": [],
   "source": [
    "data_c2_mod = []\n",
    "count = 0\n",
    "for index, example in enumerate(data_c2):\n",
    "    target_location = [0] * 36\n",
    "    \n",
    "    if len(find_possible_target_c2(example['input_command'], example['situation'])) == 1:\n",
    "        target_location_index = find_possible_target_c2(example['input_command'], example['situation'])[0]\n",
    "        target_location[target_location_index] = 1\n",
    "        data_c2[index]['target_location'] = [target_location[0:6], \n",
    "                                             target_location[6:12], \n",
    "                                             target_location[12:18], \n",
    "                                             target_location[18:24], \n",
    "                                             target_location[24:30], \n",
    "                                             target_location[30:36]]\n",
    "        data_c2_mod.append(data_c2[index])"
   ]
  },
  {
   "cell_type": "code",
   "execution_count": 6,
   "id": "89d57c10-b7b7-4937-ad7a-0da173079b41",
   "metadata": {},
   "outputs": [],
   "source": [
    "with open('./data/ReaSCAN-v1.1/ReaSCAN-compositional-c2/test__gt_that_is_replaced.json', 'w') as f:\n",
    "    for line in data_c2_mod:\n",
    "        f.write(json.dumps(line) + '\\n')"
   ]
  },
  {
   "cell_type": "markdown",
   "id": "24570a56-2059-48f9-a7f3-9d634f92adad",
   "metadata": {},
   "source": [
    "## Generate c2 splits where ground truth and command is replaced with alternate hypothesis"
   ]
  },
  {
   "cell_type": "code",
   "execution_count": 16,
   "id": "c4d5d101-36dd-49d5-88a7-785a59f35eb5",
   "metadata": {},
   "outputs": [],
   "source": [
    "import json\n",
    "from src.utils.analysis_utils import *"
   ]
  },
  {
   "cell_type": "code",
   "execution_count": 17,
   "id": "974e44b4-1f49-4c09-93b7-038666445617",
   "metadata": {},
   "outputs": [],
   "source": [
    "data_c2 = [json.loads(line) for line in open('./data/ReaSCAN-v1.1/ReaSCAN-compositional-c2/test.json', 'r')]"
   ]
  },
  {
   "cell_type": "code",
   "execution_count": 18,
   "id": "7107f991-332a-4e40-a45b-7c183850918f",
   "metadata": {},
   "outputs": [],
   "source": [
    "data_c2_mod = []\n",
    "count = 0\n",
    "for index, example in enumerate(data_c2):\n",
    "    target_location = [0] * 36\n",
    "    \n",
    "    input_command = []\n",
    "    that_is_flag = False\n",
    "    \n",
    "    for word in example['input_command']:\n",
    "        if word == 'that' and that_is_flag == True:\n",
    "            input_command.append('and')\n",
    "\n",
    "        elif word == 'that' and that_is_flag == False:\n",
    "            input_command.append(word)\n",
    "\n",
    "        elif word == 'is' and that_is_flag == False:\n",
    "            input_command.append(word)\n",
    "            that_is_flag = True\n",
    "\n",
    "        elif word == 'is' and that_is_flag == True:\n",
    "            that_is_flag = True\n",
    "\n",
    "        elif word != 'that' and word != 'is':\n",
    "            input_command.append(word)\n",
    "    \n",
    "    \n",
    "    \n",
    "    if len(find_possible_target_c2(example['input_command'], example['situation'])) == 1:\n",
    "        target_location_index = find_possible_target_c2(example['input_command'], example['situation'])[0]\n",
    "        target_location[target_location_index] = 1\n",
    "        data_c2[index]['target_location'] = [target_location[0:6], \n",
    "                                             target_location[6:12], \n",
    "                                             target_location[12:18], \n",
    "                                             target_location[18:24], \n",
    "                                             target_location[24:30], \n",
    "                                             target_location[30:36]]\n",
    "        \n",
    "        data_c2[index]['input_command'] = input_command\n",
    "        \n",
    "        data_c2_mod.append(data_c2[index])"
   ]
  },
  {
   "cell_type": "code",
   "execution_count": 20,
   "id": "5641f549-4376-4d3f-b890-a8c554e4e3dc",
   "metadata": {},
   "outputs": [],
   "source": [
    "with open('./data/ReaSCAN-v1.1/ReaSCAN-compositional-c2/test__gt_command_that_is_replaced.json', 'w') as f:\n",
    "    for line in data_c2_mod:\n",
    "        f.write(json.dumps(line) + '\\n')"
   ]
  },
  {
   "cell_type": "code",
   "execution_count": null,
   "id": "5284b0ec-6f14-4ef4-8b97-6c49ea8fd2d5",
   "metadata": {},
   "outputs": [],
   "source": []
  }
 ],
 "metadata": {
  "kernelspec": {
   "display_name": "reascan",
   "language": "python",
   "name": "reascan"
  },
  "language_info": {
   "codemirror_mode": {
    "name": "ipython",
    "version": 3
   },
   "file_extension": ".py",
   "mimetype": "text/x-python",
   "name": "python",
   "nbconvert_exporter": "python",
   "pygments_lexer": "ipython3",
   "version": "3.6.9"
  }
 },
 "nbformat": 4,
 "nbformat_minor": 5
}
