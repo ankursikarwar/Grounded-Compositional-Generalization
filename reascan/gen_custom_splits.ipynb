{
 "cells": [
  {
   "cell_type": "code",
   "execution_count": 1,
   "id": "ccbe68b7-4ebb-4717-b217-f3d5a132975a",
   "metadata": {},
   "outputs": [],
   "source": [
    "import json\n",
    "\n",
    "import random\n",
    "random.seed(1249)\n",
    "\n",
    "#Set ReaSCAN data path\n",
    "data_path = './data/ReaSCAN-v1.1/'\n",
    "\n",
    "data = [json.loads(line) for line in open(data_path + 'ReaSCAN-compositional/train.json', 'r')]\n",
    "random.shuffle(data)\n",
    "data_default_embedding = [json.loads(line) for line in open(data_path + 'ReaSCAN-compositional/train_default_embedding.json', 'r')]\n",
    "random.shuffle(data_default_embedding)"
   ]
  },
  {
   "cell_type": "markdown",
   "id": "7747ca43-176a-4356-acd4-e3b99da76f11",
   "metadata": {},
   "source": [
    "### Custom Train Split"
   ]
  },
  {
   "cell_type": "code",
   "execution_count": 2,
   "id": "196fa8a9-f80d-42cd-a476-faf106842c1f",
   "metadata": {},
   "outputs": [],
   "source": [
    "data_112000 = random.sample(data, 112000)"
   ]
  },
  {
   "cell_type": "code",
   "execution_count": 3,
   "id": "9c97d5c1-415d-4caf-8d4d-26d347efdd37",
   "metadata": {},
   "outputs": [],
   "source": [
    "with open('./data/ReaSCAN-v1.1/ReaSCAN-compositional/train_112000.json', 'w') as f:\n",
    "    for line in data_112000:\n",
    "        f.write(json.dumps(line) + '\\n')"
   ]
  },
  {
   "cell_type": "code",
   "execution_count": 4,
   "id": "c175a94c-eabe-48af-b8f3-fa7cbe14f4c0",
   "metadata": {},
   "outputs": [],
   "source": [
    "data_56000 = random.sample(data, 56000)"
   ]
  },
  {
   "cell_type": "code",
   "execution_count": 5,
   "id": "f744d71d-4f4c-44fd-924b-c05de80bf83a",
   "metadata": {},
   "outputs": [],
   "source": [
    "with open('./data/ReaSCAN-v1.1/ReaSCAN-compositional/train_56000.json', 'w') as f:\n",
    "    for line in data_56000:\n",
    "        f.write(json.dumps(line) + '\\n')"
   ]
  },
  {
   "cell_type": "markdown",
   "id": "ed559445-b69c-4f79-be5e-215ea0ea1714",
   "metadata": {},
   "source": [
    "### Custom Train Split Default Embedding"
   ]
  },
  {
   "cell_type": "code",
   "execution_count": 6,
   "id": "e98dd0fe-83ee-4843-bb02-fee31cf0090f",
   "metadata": {},
   "outputs": [],
   "source": [
    "data_112000_default_embedding = random.sample(data_default_embedding, 112000)"
   ]
  },
  {
   "cell_type": "code",
   "execution_count": 7,
   "id": "8de94bee-6def-4358-8deb-e85a81c87b11",
   "metadata": {},
   "outputs": [],
   "source": [
    "with open('./data/ReaSCAN-v1.1/ReaSCAN-compositional/train_112000_default_embedding.json', 'w') as f:\n",
    "    for line in data_112000_default_embedding:\n",
    "        f.write(json.dumps(line) + '\\n')"
   ]
  },
  {
   "cell_type": "code",
   "execution_count": 8,
   "id": "e78a8c41-f6d7-4049-9ffd-3b1643a8915e",
   "metadata": {},
   "outputs": [],
   "source": [
    "data_56000_default_embedding = random.sample(data_default_embedding, 56000)"
   ]
  },
  {
   "cell_type": "code",
   "execution_count": 9,
   "id": "e6ea8301-c913-4905-b6b2-9dcdd2ee1e74",
   "metadata": {},
   "outputs": [],
   "source": [
    "with open('./data/ReaSCAN-v1.1/ReaSCAN-compositional/train_56000_default_embedding.json', 'w') as f:\n",
    "    for line in data_56000_default_embedding:\n",
    "        f.write(json.dumps(line) + '\\n')"
   ]
  },
  {
   "cell_type": "markdown",
   "id": "319f5e5a-50c6-4fcd-a5d6-3570a94606f7",
   "metadata": {},
   "source": [
    "### Custom Dev Split"
   ]
  },
  {
   "cell_type": "code",
   "execution_count": 10,
   "id": "cdac5906-4ec3-489c-ac0e-93d185dfa077",
   "metadata": {},
   "outputs": [],
   "source": [
    "data_a1 = [json.loads(line) for line in open(data_path + 'ReaSCAN-compositional-a1/test.json', 'r')]\n",
    "data_a2 = [json.loads(line) for line in open(data_path + 'ReaSCAN-compositional-a2/test.json', 'r')]\n",
    "data_a3 = [json.loads(line) for line in open(data_path + 'ReaSCAN-compositional-a3/test.json', 'r')]\n",
    "data_b1 = [json.loads(line) for line in open(data_path + 'ReaSCAN-compositional-b1/test.json', 'r')]\n",
    "data_b2 = [json.loads(line) for line in open(data_path + 'ReaSCAN-compositional-b2/test.json', 'r')]\n",
    "data_c1 = [json.loads(line) for line in open(data_path + 'ReaSCAN-compositional-c1/test.json', 'r')]\n",
    "data_c2 = [json.loads(line) for line in open(data_path + 'ReaSCAN-compositional-c2/test.json', 'r')]"
   ]
  },
  {
   "cell_type": "code",
   "execution_count": 11,
   "id": "8b5c0b30-242d-458c-a9fd-56431a19ecdf",
   "metadata": {},
   "outputs": [],
   "source": [
    "data_a1_1000 = random.sample(data_a1, 1000)\n",
    "data_a2_1000 = random.sample(data_a2, 1000)\n",
    "data_a3_1000 = random.sample(data_a3, 1000)\n",
    "data_b1_1000 = random.sample(data_b1, 1000)\n",
    "data_b2_1000 = random.sample(data_b2, 1000)\n",
    "data_c1_1000 = random.sample(data_c1, 1000)\n",
    "data_c2_1000 = random.sample(data_c2, 1000)\n",
    "\n",
    "dev_comp_7000 = data_a1_1000 + data_a2_1000 + data_a3_1000 + data_b1_1000 + data_b2_1000 + data_c1_1000 + data_c2_1000\n",
    "random.shuffle(dev_comp_7000)"
   ]
  },
  {
   "cell_type": "code",
   "execution_count": 12,
   "id": "1f5cae9a-0118-4f7c-b019-3d071bcda99a",
   "metadata": {},
   "outputs": [],
   "source": [
    "with open('./data/ReaSCAN-v1.1/ReaSCAN-compositional/dev_comp.json', 'w') as f:\n",
    "    for line in dev_comp_7000:\n",
    "        f.write(json.dumps(line) + '\\n')"
   ]
  },
  {
   "cell_type": "code",
   "execution_count": 13,
   "id": "a5cc5883-9b09-4f63-8e67-b78a57ac6bcb",
   "metadata": {},
   "outputs": [],
   "source": [
    "data_a1_500 = random.sample(data_a1, 500)\n",
    "data_a2_500 = random.sample(data_a2, 500)\n",
    "data_a3_500 = random.sample(data_a3, 500)\n",
    "data_b1_500 = random.sample(data_b1, 500)\n",
    "data_b2_500 = random.sample(data_b2, 500)\n",
    "data_c1_500 = random.sample(data_c1, 500)\n",
    "data_c2_500 = random.sample(data_c2, 500)\n",
    "\n",
    "dev_comp_3500 = data_a1_500 + data_a2_500 + data_a3_500 + data_b1_500 + data_b2_500 + data_c1_500 + data_c2_500\n",
    "random.shuffle(dev_comp_3500)"
   ]
  },
  {
   "cell_type": "code",
   "execution_count": 14,
   "id": "bd4afa8e-1708-4f8a-8c1e-5ab2b535971d",
   "metadata": {},
   "outputs": [],
   "source": [
    "with open('./data/ReaSCAN-v1.1/ReaSCAN-compositional/dev_comp_3500.json', 'w') as f:\n",
    "    for line in dev_comp_3500:\n",
    "        f.write(json.dumps(line) + '\\n')"
   ]
  },
  {
   "cell_type": "markdown",
   "id": "ab2d643b-b6db-4e2c-9591-ff5b425bf156",
   "metadata": {},
   "source": [
    "### Custom Dev Split Default Embedding"
   ]
  },
  {
   "cell_type": "code",
   "execution_count": 15,
   "id": "39d16b1b-2916-4906-9b8b-df0100c5e77a",
   "metadata": {},
   "outputs": [],
   "source": [
    "data_a1_default_embedding = [json.loads(line) for line in open(data_path + 'ReaSCAN-compositional-a1/test_default_embedding.json', 'r')]\n",
    "data_a2_default_embedding = [json.loads(line) for line in open(data_path + 'ReaSCAN-compositional-a2/test_default_embedding.json', 'r')]\n",
    "data_a3_default_embedding = [json.loads(line) for line in open(data_path + 'ReaSCAN-compositional-a3/test_default_embedding.json', 'r')]\n",
    "data_b1_default_embedding = [json.loads(line) for line in open(data_path + 'ReaSCAN-compositional-b1/test_default_embedding.json', 'r')]\n",
    "data_b2_default_embedding = [json.loads(line) for line in open(data_path + 'ReaSCAN-compositional-b2/test_default_embedding.json', 'r')]\n",
    "data_c1_default_embedding = [json.loads(line) for line in open(data_path + 'ReaSCAN-compositional-c1/test_default_embedding.json', 'r')]\n",
    "data_c2_default_embedding = [json.loads(line) for line in open(data_path + 'ReaSCAN-compositional-c2/test_default_embedding.json', 'r')]"
   ]
  },
  {
   "cell_type": "code",
   "execution_count": 16,
   "id": "bf87938a-4a93-4abf-9977-0cad1d97c6b0",
   "metadata": {},
   "outputs": [],
   "source": [
    "data_a1_1000_default_embedding = random.sample(data_a1_default_embedding, 1000)\n",
    "data_a2_1000_default_embedding = random.sample(data_a2_default_embedding, 1000)\n",
    "data_a3_1000_default_embedding = random.sample(data_a3_default_embedding, 1000)\n",
    "data_b1_1000_default_embedding = random.sample(data_b1_default_embedding, 1000)\n",
    "data_b2_1000_default_embedding = random.sample(data_b2_default_embedding, 1000)\n",
    "data_c1_1000_default_embedding = random.sample(data_c1_default_embedding, 1000)\n",
    "data_c2_1000_default_embedding = random.sample(data_c2_default_embedding, 1000)\n",
    "\n",
    "dev_comp_7000_default_embedding = data_a1_1000_default_embedding + data_a2_1000_default_embedding \\\n",
    "                                    + data_a3_1000_default_embedding + data_b1_1000_default_embedding \\\n",
    "                                    + data_b2_1000_default_embedding + data_c1_1000_default_embedding + data_c2_1000_default_embedding\n",
    "random.shuffle(dev_comp_7000_default_embedding)"
   ]
  },
  {
   "cell_type": "code",
   "execution_count": 17,
   "id": "7ca1ae4e-befc-4bc3-b48c-42b0e6b37fa5",
   "metadata": {},
   "outputs": [],
   "source": [
    "with open('./data/ReaSCAN-v1.1/ReaSCAN-compositional/dev_comp_default_embedding.json', 'w') as f:\n",
    "    for line in dev_comp_7000_default_embedding:\n",
    "        f.write(json.dumps(line) + '\\n')"
   ]
  },
  {
   "cell_type": "code",
   "execution_count": 18,
   "id": "839e81af-83c8-49cb-ad3a-e0507541e477",
   "metadata": {},
   "outputs": [],
   "source": [
    "data_a1_500_default_embedding = random.sample(data_a1_default_embedding, 500)\n",
    "data_a2_500_default_embedding = random.sample(data_a2_default_embedding, 500)\n",
    "data_a3_500_default_embedding = random.sample(data_a3_default_embedding, 500)\n",
    "data_b1_500_default_embedding = random.sample(data_b1_default_embedding, 500)\n",
    "data_b2_500_default_embedding = random.sample(data_b2_default_embedding, 500)\n",
    "data_c1_500_default_embedding = random.sample(data_c1_default_embedding, 500)\n",
    "data_c2_500_default_embedding = random.sample(data_c2_default_embedding, 500)\n",
    "\n",
    "dev_comp_3500_default_embedding = data_a1_500_default_embedding + data_a2_500_default_embedding \\\n",
    "                                    + data_a3_500_default_embedding + data_b1_500_default_embedding \\\n",
    "                                    + data_b2_500_default_embedding + data_c1_500_default_embedding + data_c2_500_default_embedding\n",
    "random.shuffle(dev_comp_3500_default_embedding)"
   ]
  },
  {
   "cell_type": "code",
   "execution_count": 19,
   "id": "eb91d699-2dbe-4c97-8884-a504fc341df0",
   "metadata": {},
   "outputs": [
    {
     "name": "stderr",
     "output_type": "stream",
     "text": [
      "Bad pipe message: %s [b\"F\\xc0\\x96\\xd9i\\xf2nF'\\xba\\x80^,\\x14\\xbf\\xd3<\\xb1 c>\\xd4\\xd0\\xec\\xac\\xf8\\xd8\\xc5a\\xb0t\\x10/\\x15\\ts[\\x9b\\x0cG\\x83o`\\x1dG%H\\xa1&G\\x9a\\x00\\x08\\x13\\x02\\x13\\x03\\x13\\x01\\x00\\xff\\x01\\x00\\x00\\x8f\\x00\\x00\\x00\\x0e\\x00\\x0c\\x00\\x00\\t127.0.0.1\\x00\\x0b\\x00\\x04\\x03\\x00\\x01\\x02\\x00\\n\\x00\\x0c\\x00\\n\\x00\\x1d\\x00\\x17\\x00\\x1e\\x00\\x19\\x00\\x18\\x00#\\x00\\x00\\x00\\x16\\x00\\x00\\x00\\x17\\x00\\x00\\x00\\r\\x00\\x1e\\x00\\x1c\\x04\\x03\\x05\\x03\\x06\\x03\\x08\\x07\\x08\\x08\\x08\\t\\x08\\n\\x08\\x0b\\x08\\x04\\x08\"]\n",
      "Bad pipe message: %s [b'\\x06\\x04\\x01\\x05']\n",
      "Bad pipe message: %s [b')\\xcd\\x06\\xbdLT}\\x87\\x0bs\\xf7}n\\x13W\\xeb\\x08\\xdf \\\\\\x1b\\xd9\"\\xc8\\x1e\\x1b\\xca\\xdf\\xd7\\xc9VI,\\x89\\xc5\\xc5\\xda=\\x89\\xc5\\x9a\\xabU\\xe1|\\xcfI%o\\xe0k\\x00\\x08\\x13\\x02\\x13\\x03\\x13\\x01\\x00\\xff\\x01\\x00\\x00\\x8f\\x00\\x00\\x00\\x0e\\x00\\x0c\\x00\\x00\\t127.0.0.1\\x00\\x0b\\x00\\x04\\x03\\x00\\x01\\x02\\x00\\n\\x00\\x0c\\x00\\n\\x00\\x1d\\x00\\x17\\x00\\x1e\\x00\\x19\\x00\\x18\\x00#\\x00\\x00\\x00\\x16\\x00\\x00\\x00\\x17\\x00\\x00\\x00\\r\\x00\\x1e\\x00\\x1c\\x04\\x03\\x05\\x03\\x06\\x03\\x08\\x07\\x08\\x08\\x08\\t\\x08\\n\\x08\\x0b\\x08\\x04\\x08\\x05\\x08\\x06\\x04\\x01\\x05\\x01\\x06\\x01\\x00+\\x00\\x03\\x02\\x03\\x04']\n",
      "Bad pipe message: %s [b'']\n",
      "Bad pipe message: %s [b'']\n",
      "Bad pipe message: %s [b'\\x03\\x02\\x03\\x04\\x00-\\x00\\x02\\x01\\x01\\x003\\x00&\\x00$\\x00\\x1d\\x00 ,\\xeb^=\\x0c\\xb6hry\\xa46/\\xa4\\xe0\\xba\\x0f\\xb2\\xcfq\\x8e\\xe6\\\\']\n",
      "Bad pipe message: %s [b\"\\x97\\xa44+v\\xe9\\xd7\\x16\\xe4(\\xd4\\xad4S\\xa1\\xf5%\\x84\\x00\\x00\\xa6\\xc0,\\xc00\\x00\\xa3\\x00\\x9f\\xcc\\xa9\\xcc\\xa8\\xcc\\xaa\\xc0\\xaf\\xc0\\xad\\xc0\\xa3\\xc0\\x9f\\xc0]\\xc0a\\xc0W\\xc0S\\xc0+\\xc0/\\x00\\xa2\\x00\\x9e\\xc0\\xae\\xc0\\xac\\xc0\\xa2\\xc0\\x9e\\xc0\\\\\\xc0`\\xc0V\\xc0R\\xc0$\\xc0(\\x00k\\x00j\\xc0s\\xc0w\\x00\\xc4\\x00\\xc3\\xc0#\\xc0'\\x00g\\x00@\\xc0\"]\n",
      "Bad pipe message: %s [b'v\\x00\\xbe\\x00\\xbd\\xc0\\n\\xc0\\x14\\x009\\x008\\x00\\x88\\x00\\x87\\xc0\\t\\xc0\\x13\\x003\\x002\\x00\\x9a\\x00\\x99\\x00E\\x00D\\xc0\\x07\\xc0\\x11\\xc0\\x08\\xc0\\x12\\x00\\x16\\x00\\x13\\x00\\x9d\\xc0\\xa1\\xc0\\x9d\\xc0Q\\x00\\x9c\\xc0\\xa0\\xc0\\x9c\\xc0P\\x00=\\x00\\xc0\\x00<\\x00\\xba\\x005\\x00\\x84\\x00/\\x00\\x96\\x00A\\x00\\x05\\x00\\n\\x00\\xff\\x01\\x00\\x00j\\x00\\x00\\x00\\x0e\\x00\\x0c\\x00\\x00\\t127.0.0.1\\x00\\x0b\\x00\\x04\\x03\\x00']\n",
      "Bad pipe message: %s [b'']\n",
      "Bad pipe message: %s [b'\\x01\\xa6\\x81\\xa3U\\xa6Y\\xa6\\x1ar\\xd6\\x11\\x8f\\xb9\\x1d\\n\\xe6\\xfc\\x00\\x00>\\xc0\\x14\\xc0\\n\\x009\\x008\\x007\\x006\\xc0\\x0f\\xc0\\x05\\x005\\xc0\\x13\\xc0\\t\\x003\\x002\\x001\\x000\\xc0\\x0e\\xc0\\x04\\x00/\\x00\\x9a\\x00\\x99\\x00\\x98\\x00\\x97\\x00\\x96\\x00\\x07\\xc0\\x11\\xc0\\x07\\xc0\\x0c\\xc0\\x02\\x00\\x05\\x00\\x04\\x00\\xff\\x02\\x01\\x00\\x00C\\x00\\x00\\x00\\x0e\\x00\\x0c\\x00\\x00\\t127.0.0.1\\x00\\x0b\\x00\\x04\\x03\\x00\\x01\\x02\\x00\\n\\x00\\x1c\\x00\\x1a\\x00\\x17\\x00\\x19\\x00\\x1c\\x00\\x1b\\x00\\x18\\x00\\x1a\\x00\\x16\\x00\\x0e\\x00']\n",
      "Bad pipe message: %s [b'\\x0b\\x00\\x0c\\x00\\t\\x00\\n\\x00#\\x00\\x00\\x00']\n",
      "Bad pipe message: %s [b'*\\xea\\xaa\\xe8\\xbd\\x1d9F\\xa9+\\xd2\\x0c\\xe3\\x0fDvX\\xbe\\x00\\x00\\xa2\\xc0\\x14\\xc0\\n\\x009\\x008\\x007\\x006\\x00\\x88\\x00\\x87\\x00\\x86\\x00\\x85\\xc0\\x19\\x00:\\x00\\x89\\xc0\\x0f\\xc0\\x05\\x005\\x00\\x84\\xc0\\x13\\xc0\\t\\x003\\x002\\x001\\x000\\x00\\x9a\\x00\\x99\\x00\\x98\\x00\\x97\\x00E\\x00D\\x00C\\x00B\\xc0\\x18\\x004\\x00\\x9b\\x00F\\xc0\\x0e\\xc0\\x04\\x00/\\x00\\x96\\x00A\\x00\\x07\\xc0\\x11\\xc0\\x07\\xc0\\x16\\x00\\x18\\xc0\\x0c\\xc0\\x02\\x00\\x05\\x00\\x04\\xc0\\x12\\xc0\\x08\\x00\\x16\\x00\\x13\\x00\\x10\\x00\\r\\xc0\\x17\\x00\\x1b\\xc0\\r\\xc0\\x03\\x00\\n\\x00\\x15\\x00\\x12\\x00\\x0f\\x00\\x0c\\x00\\x1a\\x00\\t\\x00\\x14\\x00\\x11\\x00\\x19\\x00\\x08\\x00\\x06\\x00\\x17\\x00\\x03\\xc0\\x10\\xc0\\x06\\xc0\\x15']\n",
      "Bad pipe message: %s [b'Z\\x18|\\xce\\xa6\\x12 \\x01r\\x03\\xb0<8\\xb1N\\xf7\\xb4\\xbd\\x00\\x00\\xa2\\xc0\\x14\\xc0\\n\\x009\\x008\\x007\\x006\\x00\\x88\\x00\\x87\\x00\\x86\\x00\\x85\\xc0\\x19\\x00:\\x00\\x89\\xc0\\x0f\\xc0\\x05\\x005\\x00\\x84\\xc0\\x13\\xc0\\t\\x003\\x002\\x001\\x000\\x00\\x9a\\x00\\x99\\x00\\x98\\x00\\x97\\x00E\\x00D\\x00C\\x00B\\xc0\\x18\\x004\\x00\\x9b\\x00F\\xc0\\x0e\\xc0\\x04\\x00/\\x00\\x96\\x00A\\x00\\x07\\xc0\\x11\\xc0\\x07\\xc0\\x16\\x00\\x18\\xc0\\x0c\\xc0\\x02\\x00\\x05\\x00\\x04\\xc0\\x12\\xc0\\x08\\x00\\x16\\x00\\x13\\x00\\x10\\x00\\r\\xc0', b'\\x1b\\xc0\\r\\xc0\\x03\\x00\\n\\x00\\x15\\x00\\x12\\x00\\x0f\\x00\\x0c\\x00\\x1a\\x00\\t\\x00\\x14\\x00']\n",
      "Bad pipe message: %s [b'\\x19\\x00\\x08\\x00\\x06\\x00\\x17\\x00\\x03\\xc0\\x10\\xc0\\x06\\xc0\\x15\\xc0']\n",
      "Bad pipe message: %s [b'\\x01\\x00\\x02\\x00\\x01\\x00\\xff\\x02\\x01\\x00']\n",
      "Bad pipe message: %s [b'g\\xe0\\xdcq\\xd8\\xd8\\xe7\\xc13a\\xc1cO\\xeas\\x9c\\xa2\\xb4\\x00\\x00>\\xc0\\x14\\xc0\\n\\x009\\x008\\x007\\x006\\xc0\\x0f\\xc0\\x05\\x005\\xc0\\x13\\xc0\\t\\x003\\x002\\x001\\x000\\xc0\\x0e\\xc0\\x04\\x00/\\x00\\x9a\\x00\\x99\\x00\\x98\\x00\\x97\\x00\\x96\\x00\\x07\\xc0\\x11\\xc0\\x07']\n",
      "Bad pipe message: %s [b'\\xda,\\xfd1\\xde\\xa2o\\xbf\\xb4\\x03%\\x0co}\\x01Oy\\x9e\\x00\\x00\\xa2\\xc0\\x14\\xc0\\n\\x009\\x008\\x007\\x006\\x00\\x88\\x00\\x87\\x00\\x86\\x00\\x85\\xc0\\x19\\x00:\\x00\\x89\\xc0\\x0f\\xc0\\x05\\x005\\x00\\x84\\xc0\\x13\\xc0\\t\\x003\\x002\\x001\\x000\\x00\\x9a\\x00\\x99\\x00\\x98\\x00\\x97\\x00E\\x00D\\x00C\\x00']\n",
      "Bad pipe message: %s [b'\\x18\\x004\\x00\\x9b\\x00F\\xc0\\x0e\\xc0\\x04\\x00/\\x00\\x96\\x00A\\x00\\x07\\xc0\\x11\\xc0\\x07\\xc0\\x16\\x00\\x18\\xc0\\x0c\\xc0\\x02\\x00\\x05\\x00\\x04\\xc0\\x12\\xc0\\x08\\x00\\x16\\x00\\x13\\x00\\x10\\x00\\r\\xc0\\x17\\x00\\x1b\\xc0\\r\\xc0\\x03\\x00\\n\\x00\\x15\\x00\\x12\\x00\\x0f\\x00\\x0c']\n",
      "Bad pipe message: %s [b'\\xf0\\xe8P3\\x0b\\x99 \\x8f\\xbb\\xeb\\x1d\\x1c\\xa6sst[\\xad\\x00\\x00\\x86\\xc00\\xc0,']\n",
      "Bad pipe message: %s [b\"\\xc0$\\xc0\\x14\\xc0\\n\\x00\\xa5\\x00\\xa3\\x00\\xa1\\x00\\x9f\\x00k\\x00j\\x00i\\x00h\\x009\\x008\\x007\\x006\\xc02\\xc0.\\xc0*\\xc0&\\xc0\\x0f\\xc0\\x05\\x00\\x9d\\x00=\\x005\\xc0/\\xc0+\\xc0'\\xc0#\\xc0\\x13\\xc0\\t\\x00\\xa4\\x00\\xa2\\x00\\xa0\\x00\\x9e\\x00g\\x00@\\x00?\\x00>\\x003\\x002\\x001\\x000\\xc01\\xc0-\\xc0)\\xc0%\\xc0\\x0e\\xc0\\x04\\x00\\x9c\\x00<\\x00/\\x00\\x9a\\x00\\x99\\x00\\x98\\x00\\x97\\x00\\x96\\x00\\x07\\xc0\\x11\\xc0\\x07\\xc0\\x0c\\xc0\\x02\\x00\\x05\\x00\\x04\\x00\\xff\\x02\\x01\\x00\\x00g\\x00\\x00\\x00\\x0e\\x00\\x0c\\x00\\x00\\t127.0.0.1\\x00\\x0b\\x00\\x04\\x03\\x00\\x01\\x02\\x00\\n\\x00\\x1c\\x00\\x1a\\x00\\x17\\x00\\x19\\x00\\x1c\\x00\\x1b\\x00\\x18\\x00\\x1a\\x00\\x16\\x00\\x0e\\x00\\r\\x00\\x0b\\x00\\x0c\\x00\\t\\x00\\n\"]\n"
     ]
    }
   ],
   "source": [
    "with open('./data/ReaSCAN-v1.1/ReaSCAN-compositional/dev_comp_3500_default_embedding.json', 'w') as f:\n",
    "    for line in dev_comp_3500_default_embedding:\n",
    "        f.write(json.dumps(line) + '\\n')"
   ]
  },
  {
   "cell_type": "code",
   "execution_count": null,
   "id": "07fa987f-1fb4-4034-a360-5d2995f83fd8",
   "metadata": {},
   "outputs": [],
   "source": []
  }
 ],
 "metadata": {
  "kernelspec": {
   "display_name": "reascan",
   "language": "python",
   "name": "reascan"
  },
  "language_info": {
   "codemirror_mode": {
    "name": "ipython",
    "version": 3
   },
   "file_extension": ".py",
   "mimetype": "text/x-python",
   "name": "python",
   "nbconvert_exporter": "python",
   "pygments_lexer": "ipython3",
   "version": "3.7.13"
  }
 },
 "nbformat": 4,
 "nbformat_minor": 5
}
